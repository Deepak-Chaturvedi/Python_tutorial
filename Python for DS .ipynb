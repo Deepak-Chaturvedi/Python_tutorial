{
 "cells": [
  {
   "cell_type": "code",
   "execution_count": 11,
   "id": "8840970e",
   "metadata": {},
   "outputs": [],
   "source": [
    "list2=[1,-15,10,'abc','def','bcd','ABC']\n",
    "b= set(list2)"
   ]
  },
  {
   "cell_type": "code",
   "execution_count": 7,
   "id": "c51dde9c",
   "metadata": {},
   "outputs": [
    {
     "data": {
      "text/plain": [
       "{-15, 1, 10, 'ABC', 'abc', 'bcd', 'def'}"
      ]
     },
     "execution_count": 7,
     "metadata": {},
     "output_type": "execute_result"
    }
   ],
   "source": [
    "b"
   ]
  },
  {
   "cell_type": "code",
   "execution_count": 17,
   "id": "b5c0b0e1",
   "metadata": {},
   "outputs": [],
   "source": [
    "#b.sort(reverse=\"True\")"
   ]
  },
  {
   "cell_type": "markdown",
   "id": "f58cbd95",
   "metadata": {},
   "source": [
    "### Print Formatting"
   ]
  },
  {
   "cell_type": "code",
   "execution_count": 36,
   "id": "3225215b",
   "metadata": {
    "scrolled": true
   },
   "outputs": [
    {
     "name": "stdout",
     "output_type": "stream",
     "text": [
      "This is a float     13.350\n"
     ]
    }
   ],
   "source": [
    "print('This is a float %10.3f' %(13.3495293487))"
   ]
  },
  {
   "cell_type": "code",
   "execution_count": 40,
   "id": "ca0139ac",
   "metadata": {
    "scrolled": true
   },
   "outputs": [
    {
     "name": "stdout",
     "output_type": "stream",
     "text": [
      "Sum of 2.5 and 3 is 5.700000:\n"
     ]
    }
   ],
   "source": [
    "# String , integer and floading point\n",
    "print(\"Sum of %s and %d is %f:\" %(2.5,3.2,5.7))"
   ]
  },
  {
   "cell_type": "code",
   "execution_count": 41,
   "id": "b80abb22",
   "metadata": {},
   "outputs": [
    {
     "name": "stdout",
     "output_type": "stream",
     "text": [
      "Sum of 2.5 and 3.2 is 5.7:\n"
     ]
    }
   ],
   "source": [
    "print(\"Sum of {} and {} is {}:\".format(2.5,3.2,5.7))"
   ]
  },
  {
   "cell_type": "code",
   "execution_count": 43,
   "id": "c608b1ed",
   "metadata": {},
   "outputs": [
    {
     "name": "stdout",
     "output_type": "stream",
     "text": [
      "THe quick brown fox\n"
     ]
    }
   ],
   "source": [
    "print(\"THe {2} {1} {0}\".format(\"fox\",\"brown\",\"quick\"))"
   ]
  },
  {
   "cell_type": "code",
   "execution_count": 45,
   "id": "1d7b630e",
   "metadata": {},
   "outputs": [
    {
     "name": "stdout",
     "output_type": "stream",
     "text": [
      "Enter any number in a10\n",
      "a= 10\n"
     ]
    }
   ],
   "source": [
    "#User Input\n",
    "a = int(input('Enter any number in a'))\n",
    "print(\"a=\",a)"
   ]
  },
  {
   "cell_type": "code",
   "execution_count": 51,
   "id": "465bb262",
   "metadata": {},
   "outputs": [
    {
     "data": {
      "text/plain": [
       "[(0, 'a'), (1, 'b'), (2, 'c'), (3, 'd'), (4, 'e')]"
      ]
     },
     "execution_count": 51,
     "metadata": {},
     "output_type": "execute_result"
    }
   ],
   "source": [
    "a= enumerate('abcde')\n",
    "b=list(a)\n",
    "b"
   ]
  },
  {
   "cell_type": "code",
   "execution_count": 55,
   "id": "9ae23a19",
   "metadata": {},
   "outputs": [
    {
     "name": "stdout",
     "output_type": "stream",
     "text": [
      "0,a\n",
      "1,b\n",
      "2,c\n",
      "3,d\n",
      "4,e\n"
     ]
    }
   ],
   "source": [
    "for i,letter in enumerate('abcde'):\n",
    "    print(\"{},{}\".format(i,letter))"
   ]
  },
  {
   "cell_type": "code",
   "execution_count": 1,
   "id": "caab0d08",
   "metadata": {},
   "outputs": [
    {
     "data": {
      "text/plain": [
       "[(1, 'a', '11'), (2, 'b', 12), (3, 'c', '14')]"
      ]
     },
     "execution_count": 1,
     "metadata": {},
     "output_type": "execute_result"
    }
   ],
   "source": [
    "mylist1 = [1,2,3,4,5]\n",
    "mylist2 = ['a','b','c']\n",
    "mylist3 = ['11',12,'14',16]\n",
    "list(zip(mylist1,mylist2,mylist3))"
   ]
  },
  {
   "cell_type": "code",
   "execution_count": 15,
   "id": "90f9fe25",
   "metadata": {},
   "outputs": [],
   "source": [
    "#Reading files\n",
    "import pandas as pd\n",
    "data = pd.read_csv('D:/Work/Machine Learning/ISL-python-master/Notebooks/data/Advertising.csv')"
   ]
  },
  {
   "cell_type": "code",
   "execution_count": 8,
   "id": "18d1931c",
   "metadata": {},
   "outputs": [],
   "source": [
    "data = pd.read_table('D:/Work/Machine Learning/ISL-python-master/Notebooks/data/Advertising.csv',sep=',',header=None)"
   ]
  },
  {
   "cell_type": "code",
   "execution_count": 19,
   "id": "2b918719",
   "metadata": {},
   "outputs": [
    {
     "data": {
      "text/html": [
       "<div>\n",
       "<style scoped>\n",
       "    .dataframe tbody tr th:only-of-type {\n",
       "        vertical-align: middle;\n",
       "    }\n",
       "\n",
       "    .dataframe tbody tr th {\n",
       "        vertical-align: top;\n",
       "    }\n",
       "\n",
       "    .dataframe thead th {\n",
       "        text-align: right;\n",
       "    }\n",
       "</style>\n",
       "<table border=\"1\" class=\"dataframe\">\n",
       "  <thead>\n",
       "    <tr style=\"text-align: right;\">\n",
       "      <th></th>\n",
       "      <th>Unnamed: 0</th>\n",
       "      <th>TV</th>\n",
       "      <th>radio</th>\n",
       "      <th>newspaper</th>\n",
       "      <th>sales</th>\n",
       "    </tr>\n",
       "  </thead>\n",
       "  <tbody>\n",
       "    <tr>\n",
       "      <th>0</th>\n",
       "      <td>1</td>\n",
       "      <td>230.1</td>\n",
       "      <td>37.8</td>\n",
       "      <td>69.2</td>\n",
       "      <td>22.1</td>\n",
       "    </tr>\n",
       "    <tr>\n",
       "      <th>1</th>\n",
       "      <td>2</td>\n",
       "      <td>44.5</td>\n",
       "      <td>39.3</td>\n",
       "      <td>45.1</td>\n",
       "      <td>10.4</td>\n",
       "    </tr>\n",
       "    <tr>\n",
       "      <th>2</th>\n",
       "      <td>3</td>\n",
       "      <td>17.2</td>\n",
       "      <td>45.9</td>\n",
       "      <td>69.3</td>\n",
       "      <td>9.3</td>\n",
       "    </tr>\n",
       "    <tr>\n",
       "      <th>3</th>\n",
       "      <td>4</td>\n",
       "      <td>151.5</td>\n",
       "      <td>41.3</td>\n",
       "      <td>58.5</td>\n",
       "      <td>18.5</td>\n",
       "    </tr>\n",
       "    <tr>\n",
       "      <th>4</th>\n",
       "      <td>5</td>\n",
       "      <td>180.8</td>\n",
       "      <td>10.8</td>\n",
       "      <td>58.4</td>\n",
       "      <td>12.9</td>\n",
       "    </tr>\n",
       "    <tr>\n",
       "      <th>...</th>\n",
       "      <td>...</td>\n",
       "      <td>...</td>\n",
       "      <td>...</td>\n",
       "      <td>...</td>\n",
       "      <td>...</td>\n",
       "    </tr>\n",
       "    <tr>\n",
       "      <th>195</th>\n",
       "      <td>196</td>\n",
       "      <td>38.2</td>\n",
       "      <td>3.7</td>\n",
       "      <td>13.8</td>\n",
       "      <td>7.6</td>\n",
       "    </tr>\n",
       "    <tr>\n",
       "      <th>196</th>\n",
       "      <td>197</td>\n",
       "      <td>94.2</td>\n",
       "      <td>4.9</td>\n",
       "      <td>8.1</td>\n",
       "      <td>9.7</td>\n",
       "    </tr>\n",
       "    <tr>\n",
       "      <th>197</th>\n",
       "      <td>198</td>\n",
       "      <td>177.0</td>\n",
       "      <td>9.3</td>\n",
       "      <td>6.4</td>\n",
       "      <td>12.8</td>\n",
       "    </tr>\n",
       "    <tr>\n",
       "      <th>198</th>\n",
       "      <td>199</td>\n",
       "      <td>283.6</td>\n",
       "      <td>42.0</td>\n",
       "      <td>66.2</td>\n",
       "      <td>25.5</td>\n",
       "    </tr>\n",
       "    <tr>\n",
       "      <th>199</th>\n",
       "      <td>200</td>\n",
       "      <td>232.1</td>\n",
       "      <td>8.6</td>\n",
       "      <td>8.7</td>\n",
       "      <td>13.4</td>\n",
       "    </tr>\n",
       "  </tbody>\n",
       "</table>\n",
       "<p>200 rows × 5 columns</p>\n",
       "</div>"
      ],
      "text/plain": [
       "     Unnamed: 0     TV  radio  newspaper  sales\n",
       "0             1  230.1   37.8       69.2   22.1\n",
       "1             2   44.5   39.3       45.1   10.4\n",
       "2             3   17.2   45.9       69.3    9.3\n",
       "3             4  151.5   41.3       58.5   18.5\n",
       "4             5  180.8   10.8       58.4   12.9\n",
       "..          ...    ...    ...        ...    ...\n",
       "195         196   38.2    3.7       13.8    7.6\n",
       "196         197   94.2    4.9        8.1    9.7\n",
       "197         198  177.0    9.3        6.4   12.8\n",
       "198         199  283.6   42.0       66.2   25.5\n",
       "199         200  232.1    8.6        8.7   13.4\n",
       "\n",
       "[200 rows x 5 columns]"
      ]
     },
     "execution_count": 19,
     "metadata": {},
     "output_type": "execute_result"
    }
   ],
   "source": [
    "data"
   ]
  },
  {
   "cell_type": "code",
   "execution_count": 46,
   "id": "f89226de",
   "metadata": {},
   "outputs": [
    {
     "name": "stdout",
     "output_type": "stream",
     "text": [
      "Wall time: 14.5 ms\n"
     ]
    },
    {
     "data": {
      "text/html": [
       "<div>\n",
       "<style scoped>\n",
       "    .dataframe tbody tr th:only-of-type {\n",
       "        vertical-align: middle;\n",
       "    }\n",
       "\n",
       "    .dataframe tbody tr th {\n",
       "        vertical-align: top;\n",
       "    }\n",
       "\n",
       "    .dataframe thead th {\n",
       "        text-align: right;\n",
       "    }\n",
       "</style>\n",
       "<table border=\"1\" class=\"dataframe\">\n",
       "  <thead>\n",
       "    <tr style=\"text-align: right;\">\n",
       "      <th></th>\n",
       "      <th>Unnamed: 0</th>\n",
       "      <th>TV</th>\n",
       "      <th>radio</th>\n",
       "      <th>newspaper</th>\n",
       "      <th>sales</th>\n",
       "    </tr>\n",
       "  </thead>\n",
       "  <tbody>\n",
       "    <tr>\n",
       "      <th>0</th>\n",
       "      <td>False</td>\n",
       "      <td>False</td>\n",
       "      <td>False</td>\n",
       "      <td>False</td>\n",
       "      <td>False</td>\n",
       "    </tr>\n",
       "    <tr>\n",
       "      <th>1</th>\n",
       "      <td>False</td>\n",
       "      <td>False</td>\n",
       "      <td>False</td>\n",
       "      <td>False</td>\n",
       "      <td>False</td>\n",
       "    </tr>\n",
       "    <tr>\n",
       "      <th>2</th>\n",
       "      <td>False</td>\n",
       "      <td>False</td>\n",
       "      <td>False</td>\n",
       "      <td>False</td>\n",
       "      <td>False</td>\n",
       "    </tr>\n",
       "    <tr>\n",
       "      <th>3</th>\n",
       "      <td>False</td>\n",
       "      <td>False</td>\n",
       "      <td>False</td>\n",
       "      <td>False</td>\n",
       "      <td>False</td>\n",
       "    </tr>\n",
       "    <tr>\n",
       "      <th>4</th>\n",
       "      <td>False</td>\n",
       "      <td>False</td>\n",
       "      <td>False</td>\n",
       "      <td>False</td>\n",
       "      <td>False</td>\n",
       "    </tr>\n",
       "    <tr>\n",
       "      <th>...</th>\n",
       "      <td>...</td>\n",
       "      <td>...</td>\n",
       "      <td>...</td>\n",
       "      <td>...</td>\n",
       "      <td>...</td>\n",
       "    </tr>\n",
       "    <tr>\n",
       "      <th>192</th>\n",
       "      <td>False</td>\n",
       "      <td>False</td>\n",
       "      <td>False</td>\n",
       "      <td>False</td>\n",
       "      <td>False</td>\n",
       "    </tr>\n",
       "    <tr>\n",
       "      <th>193</th>\n",
       "      <td>False</td>\n",
       "      <td>False</td>\n",
       "      <td>False</td>\n",
       "      <td>False</td>\n",
       "      <td>False</td>\n",
       "    </tr>\n",
       "    <tr>\n",
       "      <th>194</th>\n",
       "      <td>False</td>\n",
       "      <td>False</td>\n",
       "      <td>False</td>\n",
       "      <td>False</td>\n",
       "      <td>False</td>\n",
       "    </tr>\n",
       "    <tr>\n",
       "      <th>195</th>\n",
       "      <td>False</td>\n",
       "      <td>False</td>\n",
       "      <td>False</td>\n",
       "      <td>False</td>\n",
       "      <td>False</td>\n",
       "    </tr>\n",
       "    <tr>\n",
       "      <th>196</th>\n",
       "      <td>False</td>\n",
       "      <td>False</td>\n",
       "      <td>False</td>\n",
       "      <td>False</td>\n",
       "      <td>False</td>\n",
       "    </tr>\n",
       "  </tbody>\n",
       "</table>\n",
       "<p>197 rows × 5 columns</p>\n",
       "</div>"
      ],
      "text/plain": [
       "     Unnamed: 0     TV  radio  newspaper  sales\n",
       "0         False  False  False      False  False\n",
       "1         False  False  False      False  False\n",
       "2         False  False  False      False  False\n",
       "3         False  False  False      False  False\n",
       "4         False  False  False      False  False\n",
       "..          ...    ...    ...        ...    ...\n",
       "192       False  False  False      False  False\n",
       "193       False  False  False      False  False\n",
       "194       False  False  False      False  False\n",
       "195       False  False  False      False  False\n",
       "196       False  False  False      False  False\n",
       "\n",
       "[197 rows x 5 columns]"
      ]
     },
     "execution_count": 46,
     "metadata": {},
     "output_type": "execute_result"
    }
   ],
   "source": [
    "%%time #Check exeucution time\n",
    "data = pd.read_table('D:/Work/Machine Learning/ISL-python-master/Notebooks/data/Advertising.csv',sep=',',skiprows=[1,2,3])\n",
    "data\n",
    "pd.isnull(data)"
   ]
  },
  {
   "cell_type": "code",
   "execution_count": 41,
   "id": "00edf5d5",
   "metadata": {},
   "outputs": [
    {
     "data": {
      "text/html": [
       "<div>\n",
       "<style scoped>\n",
       "    .dataframe tbody tr th:only-of-type {\n",
       "        vertical-align: middle;\n",
       "    }\n",
       "\n",
       "    .dataframe tbody tr th {\n",
       "        vertical-align: top;\n",
       "    }\n",
       "\n",
       "    .dataframe thead th {\n",
       "        text-align: right;\n",
       "    }\n",
       "</style>\n",
       "<table border=\"1\" class=\"dataframe\">\n",
       "  <thead>\n",
       "    <tr style=\"text-align: right;\">\n",
       "      <th></th>\n",
       "      <th>TV</th>\n",
       "      <th>Radio</th>\n",
       "      <th>Newspaper</th>\n",
       "      <th>Sales</th>\n",
       "    </tr>\n",
       "    <tr>\n",
       "      <th>Sl</th>\n",
       "      <th></th>\n",
       "      <th></th>\n",
       "      <th></th>\n",
       "      <th></th>\n",
       "    </tr>\n",
       "  </thead>\n",
       "  <tbody>\n",
       "    <tr>\n",
       "      <th>4</th>\n",
       "      <td>151.5</td>\n",
       "      <td>41.3</td>\n",
       "      <td>58.5</td>\n",
       "      <td>18.5</td>\n",
       "    </tr>\n",
       "    <tr>\n",
       "      <th>5</th>\n",
       "      <td>180.8</td>\n",
       "      <td>10.8</td>\n",
       "      <td>58.4</td>\n",
       "      <td>12.9</td>\n",
       "    </tr>\n",
       "    <tr>\n",
       "      <th>6</th>\n",
       "      <td>8.7</td>\n",
       "      <td>48.9</td>\n",
       "      <td>75.0</td>\n",
       "      <td>7.2</td>\n",
       "    </tr>\n",
       "    <tr>\n",
       "      <th>7</th>\n",
       "      <td>57.5</td>\n",
       "      <td>32.8</td>\n",
       "      <td>23.5</td>\n",
       "      <td>11.8</td>\n",
       "    </tr>\n",
       "    <tr>\n",
       "      <th>8</th>\n",
       "      <td>120.2</td>\n",
       "      <td>19.6</td>\n",
       "      <td>11.6</td>\n",
       "      <td>13.2</td>\n",
       "    </tr>\n",
       "  </tbody>\n",
       "</table>\n",
       "</div>"
      ],
      "text/plain": [
       "       TV  Radio  Newspaper  Sales\n",
       "Sl                                \n",
       "4   151.5   41.3       58.5   18.5\n",
       "5   180.8   10.8       58.4   12.9\n",
       "6     8.7   48.9       75.0    7.2\n",
       "7    57.5   32.8       23.5   11.8\n",
       "8   120.2   19.6       11.6   13.2"
      ]
     },
     "execution_count": 41,
     "metadata": {},
     "output_type": "execute_result"
    }
   ],
   "source": [
    "data = pd.read_table('D:/Work/Machine Learning/ISL-python-master/Notebooks/data/Advertising.csv',sep=',',\n",
    "                     names=['Sl','TV','Radio','Newspaper','Sales'],\n",
    "                     index_col=0,header=0,na_values=['NULL'],\n",
    "                     skiprows=[0,1,2],nrows=5,thousands=',')\n",
    "data"
   ]
  },
  {
   "cell_type": "code",
   "execution_count": 60,
   "id": "5485fedf",
   "metadata": {},
   "outputs": [],
   "source": [
    "#!pip install nb_black\n",
    "#!pip install --upgrade pip --user"
   ]
  },
  {
   "cell_type": "code",
   "execution_count": null,
   "id": "9681a3a3",
   "metadata": {},
   "outputs": [],
   "source": [
    "#Writing to a csv file\n",
    "#data.to_csv('path/filename.ext')"
   ]
  },
  {
   "cell_type": "code",
   "execution_count": 68,
   "id": "1ce47df3",
   "metadata": {},
   "outputs": [],
   "source": [
    "#Write data to standard output\n",
    "import sys\n",
    "#data.to_csv(sys.stdout,sep=' ')"
   ]
  },
  {
   "cell_type": "code",
   "execution_count": 105,
   "id": "3d5cbdeb",
   "metadata": {},
   "outputs": [
    {
     "data": {
      "text/plain": [
       "_csv.reader"
      ]
     },
     "execution_count": 105,
     "metadata": {},
     "output_type": "execute_result"
    }
   ],
   "source": [
    "#csv function\n",
    "import csv\n",
    "f= open('D:/Work/Machine Learning/ISL-python-master/Notebooks/data/Advertising.csv')\n",
    "reader = csv.reader(f, delimiter=',')\n",
    "reader\n",
    "type(reader)\n",
    "#help(csv)"
   ]
  },
  {
   "cell_type": "code",
   "execution_count": 2,
   "id": "33ff96ac",
   "metadata": {},
   "outputs": [
    {
     "data": {
      "text/plain": [
       "'\\nimport json\\na= json.loads(object)\\nb= json.dumps(object)\\nread_json()\\nto_json()\\n'"
      ]
     },
     "execution_count": 2,
     "metadata": {},
     "output_type": "execute_result"
    }
   ],
   "source": [
    "#Other functions\n",
    "'''\n",
    "import json\n",
    "a= json.loads(object)\n",
    "b= json.dumps(object)\n",
    "read_json()\n",
    "to_json()\n",
    "'''\n"
   ]
  },
  {
   "cell_type": "markdown",
   "id": "e1f3efeb",
   "metadata": {},
   "source": [
    "## XML AND HTML : WEB SCRAPING"
   ]
  },
  {
   "cell_type": "markdown",
   "id": "21aaa488",
   "metadata": {},
   "source": [
    "##Class"
   ]
  },
  {
   "cell_type": "code",
   "execution_count": 33,
   "id": "1ddf39eb",
   "metadata": {},
   "outputs": [
    {
     "name": "stdout",
     "output_type": "stream",
     "text": [
      "<class '__main__.Sample'>\n"
     ]
    }
   ],
   "source": [
    "#HOw to create a Class ,Convemtion start with a capital name\n",
    "class Sample:\n",
    "    pass\n",
    "\n",
    "#Create an instance from a class, Instantiation of a class\n",
    "x = Sample()\n",
    "print(type(x))"
   ]
  },
  {
   "cell_type": "code",
   "execution_count": 23,
   "id": "64432d88",
   "metadata": {},
   "outputs": [
    {
     "name": "stdout",
     "output_type": "stream",
     "text": [
      "rocky is a Lab\n",
      "frank is a Husky\n"
     ]
    },
    {
     "data": {
      "text/plain": [
       "('Lab', 'Husky')"
      ]
     },
     "execution_count": 23,
     "metadata": {},
     "output_type": "execute_result"
    }
   ],
   "source": [
    "class Dog:\n",
    "    #init gets executed when we create an instance, its a constructor\n",
    "    # init methrod can have multiple attributes.\n",
    "    #__init__ stores all the properties/attributes...\n",
    "    def __init__(self,breed): #constructor, breed is an attribute, has no arguments\n",
    "        self.breed = breed\n",
    "\n",
    "rocky = Dog(breed= \"Lab\")\n",
    "frank = Dog(breed= \"Husky\")\n",
    "print(\"rocky is a {}\".format(rocky.breed))\n",
    "print(\"frank is a {}\".format(frank.breed))\n",
    "rocky.breed ,frank.breed"
   ]
  },
  {
   "cell_type": "code",
   "execution_count": 32,
   "id": "706a0426",
   "metadata": {},
   "outputs": [
    {
     "data": {
      "text/plain": [
       "('Mammal', 'Earth', 'Lab', 'Rocky')"
      ]
     },
     "execution_count": 32,
     "metadata": {},
     "output_type": "execute_result"
    }
   ],
   "source": [
    "#Class object attributes are same of all the instances for the class\n",
    "# are defined before the method\n",
    "class Dog:\n",
    "    species = 'Mammal'\n",
    "    found = 'Earth'\n",
    "    def __init__(self,breed,name):\n",
    "        self.breed = breed\n",
    "        self.name = name\n",
    "        \n",
    "rocky = Dog('Lab','Rocky')\n",
    "rocky.species,rocky.found,rocky.breed,rocky.name"
   ]
  },
  {
   "cell_type": "code",
   "execution_count": 44,
   "id": "e12454f1",
   "metadata": {},
   "outputs": [
    {
     "data": {
      "text/plain": [
       "(5, 78.5, 31.400000000000002)"
      ]
     },
     "execution_count": 44,
     "metadata": {},
     "output_type": "execute_result"
    }
   ],
   "source": [
    "#Methods are funcutions defined inside the body of a class. Or functions \n",
    "#actinon an object that take the object intelf into account through self argument\n",
    "#They performa operations with attributes of the object\n",
    "\n",
    "class Circle:\n",
    "    pi = 3.14 #attribute\n",
    "    #circle gets instantiated with a radius ( default is 1)\n",
    "    def __init__(self,radius=1):\n",
    "        self.radius = radius\n",
    "        self.area = radius * radius * Circle.pi\n",
    "        \n",
    "    #Method for calculating Circumferance, method needs to be called \n",
    "    #explicitly , as opposed to __init__\n",
    "    def circum(self):\n",
    "        return 2* self.pi * self.radius \n",
    "\n",
    "c = Circle(5)\n",
    "\n",
    "c.radius, c.area, c.circum()"
   ]
  },
  {
   "cell_type": "code",
   "execution_count": 76,
   "id": "40bc045b",
   "metadata": {},
   "outputs": [
    {
     "name": "stdout",
     "output_type": "stream",
     "text": [
      "Animal created\n",
      "DOg created\n",
      "Dog\n",
      "Eating\n",
      "Woof\n",
      "Animal created\n",
      "Animal\n",
      "Eating\n"
     ]
    }
   ],
   "source": [
    "#inheritance\n",
    "# is a way to create new classes using classes called base or ancestor classes, new class is \n",
    "#called derived class or descendent class.\n",
    "# for code reuse, chnage or add functionality of existing class\n",
    "class Animal:\n",
    "    def __init__(self):\n",
    "        print(\"Animal created\")\n",
    "    def whoAmI(self):\n",
    "        print(\"Animal\")\n",
    "    def eat(self):\n",
    "        print('Eating')\n",
    "\n",
    "class Dog(Animal):\n",
    "    def __init__(self):\n",
    "        Animal.__init__(self) #Important\n",
    "        print('DOg created')\n",
    "    def whoAmI(self):\n",
    "        print('Dog')\n",
    "    def bark(self):\n",
    "        print('Woof')\n",
    "        \n",
    "d = Dog()\n",
    "d.whoAmI()\n",
    "d.eat()\n",
    "d.bark()\n",
    "\n",
    "a = Animal()\n",
    "a.whoAmI()\n",
    "a.eat()\n",
    "#a.bark() # does not work\n"
   ]
  },
  {
   "cell_type": "markdown",
   "id": "1b81016a",
   "metadata": {},
   "source": [
    "#Polymorphism\n",
    "''''\n",
    "In programming, polymorphism means the same function name (but different \n",
    "signatures) being used for different types.\n",
    "Polymorphism with Inheritance: \n",
    "In Python, Polymorphism lets us define methods in the child class\n",
    "that have the same name as the methods in the parent class.\n",
    "In inheritance, the child class inherits the methods from the \n",
    "parent class. However, it is possible to modify a method in a\n",
    "child class that it has inherited from the parent class. \n",
    "This is particularly useful in cases where the method inherited \n",
    "from the parent class doesn’t quite fit the child class. In such cases,\n",
    "we re-implement the method in the child class. This process of re-implement\n",
    "ing a method in the child class is known as Method Overriding. \n",
    "''''''"
   ]
  },
  {
   "cell_type": "code",
   "execution_count": 1,
   "id": "ea2aa32d",
   "metadata": {},
   "outputs": [
    {
     "ename": "NotImplementedError",
     "evalue": "Subclass must implemtn abstract metohd",
     "output_type": "error",
     "traceback": [
      "\u001b[1;31m---------------------------------------------------------------------------\u001b[0m",
      "\u001b[1;31mNotImplementedError\u001b[0m                       Traceback (most recent call last)",
      "\u001b[1;32m<ipython-input-1-edeabc00fa3e>\u001b[0m in \u001b[0;36m<module>\u001b[1;34m\u001b[0m\n\u001b[0;32m     17\u001b[0m \u001b[0misis\u001b[0m \u001b[1;33m=\u001b[0m \u001b[0mCat\u001b[0m\u001b[1;33m(\u001b[0m\u001b[1;34m'Isis'\u001b[0m\u001b[1;33m)\u001b[0m\u001b[1;33m\u001b[0m\u001b[1;33m\u001b[0m\u001b[0m\n\u001b[0;32m     18\u001b[0m \u001b[0manim\u001b[0m \u001b[1;33m=\u001b[0m \u001b[0mAnimal\u001b[0m\u001b[1;33m(\u001b[0m\u001b[1;34m'ANimal'\u001b[0m\u001b[1;33m)\u001b[0m\u001b[1;33m\u001b[0m\u001b[1;33m\u001b[0m\u001b[0m\n\u001b[1;32m---> 19\u001b[1;33m \u001b[0mfido\u001b[0m\u001b[1;33m.\u001b[0m\u001b[0mspeak\u001b[0m\u001b[1;33m(\u001b[0m\u001b[1;33m)\u001b[0m \u001b[1;33m,\u001b[0m \u001b[0misis\u001b[0m\u001b[1;33m.\u001b[0m\u001b[0mspeak\u001b[0m\u001b[1;33m(\u001b[0m\u001b[1;33m)\u001b[0m\u001b[1;33m,\u001b[0m \u001b[0manim\u001b[0m\u001b[1;33m.\u001b[0m\u001b[0mspeak\u001b[0m\u001b[1;33m(\u001b[0m\u001b[1;33m)\u001b[0m\u001b[1;33m\u001b[0m\u001b[1;33m\u001b[0m\u001b[0m\n\u001b[0m",
      "\u001b[1;32m<ipython-input-1-edeabc00fa3e>\u001b[0m in \u001b[0;36mspeak\u001b[1;34m(self)\u001b[0m\n\u001b[0;32m      6\u001b[0m         \u001b[0mself\u001b[0m\u001b[1;33m.\u001b[0m\u001b[0mname\u001b[0m \u001b[1;33m=\u001b[0m\u001b[0mname\u001b[0m\u001b[1;33m\u001b[0m\u001b[1;33m\u001b[0m\u001b[0m\n\u001b[0;32m      7\u001b[0m     \u001b[1;32mdef\u001b[0m \u001b[0mspeak\u001b[0m\u001b[1;33m(\u001b[0m\u001b[0mself\u001b[0m\u001b[1;33m)\u001b[0m\u001b[1;33m:\u001b[0m  \u001b[1;31m#Abstract method, defined by convention\u001b[0m\u001b[1;33m\u001b[0m\u001b[1;33m\u001b[0m\u001b[0m\n\u001b[1;32m----> 8\u001b[1;33m         \u001b[1;32mraise\u001b[0m \u001b[0mNotImplementedError\u001b[0m\u001b[1;33m(\u001b[0m\u001b[1;34m\"Subclass must implemtn abstract metohd\"\u001b[0m\u001b[1;33m)\u001b[0m\u001b[1;33m\u001b[0m\u001b[1;33m\u001b[0m\u001b[0m\n\u001b[0m\u001b[0;32m      9\u001b[0m \u001b[1;32mclass\u001b[0m \u001b[0mDog\u001b[0m\u001b[1;33m(\u001b[0m\u001b[0mAnimal\u001b[0m\u001b[1;33m)\u001b[0m\u001b[1;33m:\u001b[0m\u001b[1;33m\u001b[0m\u001b[1;33m\u001b[0m\u001b[0m\n\u001b[0;32m     10\u001b[0m     \u001b[1;32mdef\u001b[0m \u001b[0mspeak\u001b[0m\u001b[1;33m(\u001b[0m\u001b[0mself\u001b[0m\u001b[1;33m)\u001b[0m\u001b[1;33m:\u001b[0m\u001b[1;33m\u001b[0m\u001b[1;33m\u001b[0m\u001b[0m\n",
      "\u001b[1;31mNotImplementedError\u001b[0m: Subclass must implemtn abstract metohd"
     ]
    }
   ],
   "source": [
    "#Abstract class an inheritance, Abstract class is one that never expects to be \n",
    "#instantiated\n",
    "#Meaning the partent class should not have , only child class should ?\n",
    "class Animal:\n",
    "    def __init__(self,name):\n",
    "        self.name =name\n",
    "    def speak(self):  #Abstract method, defined by convention\n",
    "        raise NotImplementedError(\"Subclass must implemtn abstract metohd\")\n",
    "class Dog(Animal):\n",
    "    def speak(self):\n",
    "        return self.name + ' says Woof'\n",
    "class Cat(Animal):\n",
    "    def speak(self):\n",
    "        return self.name + ' says Meow'\n",
    "\n",
    "fido = Dog('Fido')\n",
    "isis = Cat('Isis')\n",
    "anim = Animal('ANimal')\n",
    "fido.speak() , isis.speak(), anim.speak()\n"
   ]
  },
  {
   "cell_type": "code",
   "execution_count": 23,
   "id": "ea4b48e6-8bb0-4054-8cfb-7c4502f8d189",
   "metadata": {},
   "outputs": [],
   "source": [
    "### Regular expressions"
   ]
  },
  {
   "cell_type": "code",
   "execution_count": 41,
   "id": "6ef768ea-9f9d-4f0e-b7ed-654dc3023007",
   "metadata": {},
   "outputs": [
    {
     "data": {
      "text/plain": [
       "(<re.Match object; span=(3, 8), match='phone'>, (3, 8), 3, 8)"
      ]
     },
     "execution_count": 41,
     "metadata": {},
     "output_type": "execute_result"
    }
   ],
   "source": [
    "import re\n",
    "text =\"My phone is a new phone\"\n",
    "pattern = \"phone\"\n",
    "match = re.search(pattern,text)\n",
    "match ,match.span() , match.start() , match.end()"
   ]
  },
  {
   "cell_type": "code",
   "execution_count": 33,
   "id": "30bb27b2-b109-4fcc-9a60-ff4a6e7c64eb",
   "metadata": {},
   "outputs": [
    {
     "name": "stdout",
     "output_type": "stream",
     "text": [
      "(3, 8)\n",
      "(18, 23)\n"
     ]
    }
   ],
   "source": [
    "positions = re.findall(pattern,text)\n",
    "positions\n",
    "#Find all the positions of match\n",
    "for i in re.finditer(pattern,text):\n",
    "    print(i.span())"
   ]
  },
  {
   "cell_type": "code",
   "execution_count": 13,
   "id": "e807888a-f20c-4388-baad-81d05a060e6e",
   "metadata": {},
   "outputs": [
    {
     "data": {
      "text/plain": [
       "['THis is a string', ' But punctuatiuons ', ' remove it and 34']"
      ]
     },
     "execution_count": 13,
     "metadata": {},
     "output_type": "execute_result"
    }
   ],
   "source": [
    "# ^ is used to exclude something\n",
    "phrase = 'THis is a string! But punctuatiuons . remove it and 34?'\n",
    "re.findall(r'[^!.,?]+', phrase)"
   ]
  },
  {
   "cell_type": "code",
   "execution_count": 21,
   "id": "90feee3b-e27d-4c9c-ab68-2e6c2fd4e893",
   "metadata": {},
   "outputs": [
    {
     "data": {
      "text/plain": [
       "'THis is a string But punctuatiuons  remove it and '"
      ]
     },
     "execution_count": 21,
     "metadata": {},
     "output_type": "execute_result"
    }
   ],
   "source": [
    "#remove numbers \n",
    "#re.findall(r'[^\\d]', phrase)\n",
    "clean = ''.join(re.findall(r'[^!?.,\\d]+', phrase))\n",
    "clean"
   ]
  },
  {
   "cell_type": "code",
   "execution_count": 42,
   "id": "051b10ee-ba76-4659-91f0-91c3b065943b",
   "metadata": {},
   "outputs": [],
   "source": [
    "#Brackets for grouping - Hyphenated words\n",
    "text = 'Only find the hypeh-words. But not-long wirds'\n"
   ]
  },
  {
   "cell_type": "markdown",
   "id": "f86bf068-53c8-4442-9bae-6c93ca3ad823",
   "metadata": {},
   "source": [
    "###Pandas"
   ]
  },
  {
   "cell_type": "code",
   "execution_count": null,
   "id": "13a247d4-2074-4900-b017-ab84d76ac9ef",
   "metadata": {},
   "outputs": [],
   "source": []
  }
 ],
 "metadata": {
  "kernelspec": {
   "display_name": "Python 3",
   "language": "python",
   "name": "python3"
  },
  "language_info": {
   "codemirror_mode": {
    "name": "ipython",
    "version": 3
   },
   "file_extension": ".py",
   "mimetype": "text/x-python",
   "name": "python",
   "nbconvert_exporter": "python",
   "pygments_lexer": "ipython3",
   "version": "3.7.5"
  }
 },
 "nbformat": 4,
 "nbformat_minor": 5
}

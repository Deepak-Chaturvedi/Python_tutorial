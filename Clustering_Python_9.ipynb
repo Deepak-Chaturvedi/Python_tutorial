{
  "nbformat": 4,
  "nbformat_minor": 0,
  "metadata": {
    "colab": {
      "name": "Clustering_Python 8.ipynb",
      "provenance": []
    },
    "kernelspec": {
      "name": "python3",
      "display_name": "Python 3"
    },
    "language_info": {
      "name": "python"
    }
  },
  "cells": [
    {
      "cell_type": "markdown",
      "source": [
        "### HIERARCHICAL CLUSTERING"
      ],
      "metadata": {
        "id": "Dk1zao841g34"
      }
    },
    {
      "cell_type": "code",
      "execution_count": null,
      "metadata": {
        "id": "4M_sHSjjnWQR"
      },
      "outputs": [],
      "source": [
        "import pandas as pd\n",
        "import matplotlib.pyplot as plt\n",
        "import numpy as np"
      ]
    },
    {
      "cell_type": "code",
      "source": [
        "dataset = pd.read_csv('Mall_Customers.csv')\n",
        "X = dataset.iloc[:,[2,3,4]].values\n",
        "X"
      ],
      "metadata": {
        "colab": {
          "base_uri": "https://localhost:8080/"
        },
        "id": "6uxnfyC9uqLn",
        "outputId": "60de869a-b454-4641-b760-dfc43dfd9ff6"
      },
      "execution_count": null,
      "outputs": [
        {
          "output_type": "execute_result",
          "data": {
            "text/plain": [
              "array([[ 19,  15,  39],\n",
              "       [ 21,  15,  81],\n",
              "       [ 20,  16,   6],\n",
              "       [ 23,  16,  77],\n",
              "       [ 31,  17,  40],\n",
              "       [ 22,  17,  76],\n",
              "       [ 35,  18,   6],\n",
              "       [ 23,  18,  94],\n",
              "       [ 64,  19,   3],\n",
              "       [ 30,  19,  72],\n",
              "       [ 67,  19,  14],\n",
              "       [ 35,  19,  99],\n",
              "       [ 58,  20,  15],\n",
              "       [ 24,  20,  77],\n",
              "       [ 37,  20,  13],\n",
              "       [ 22,  20,  79],\n",
              "       [ 35,  21,  35],\n",
              "       [ 20,  21,  66],\n",
              "       [ 52,  23,  29],\n",
              "       [ 35,  23,  98],\n",
              "       [ 35,  24,  35],\n",
              "       [ 25,  24,  73],\n",
              "       [ 46,  25,   5],\n",
              "       [ 31,  25,  73],\n",
              "       [ 54,  28,  14],\n",
              "       [ 29,  28,  82],\n",
              "       [ 45,  28,  32],\n",
              "       [ 35,  28,  61],\n",
              "       [ 40,  29,  31],\n",
              "       [ 23,  29,  87],\n",
              "       [ 60,  30,   4],\n",
              "       [ 21,  30,  73],\n",
              "       [ 53,  33,   4],\n",
              "       [ 18,  33,  92],\n",
              "       [ 49,  33,  14],\n",
              "       [ 21,  33,  81],\n",
              "       [ 42,  34,  17],\n",
              "       [ 30,  34,  73],\n",
              "       [ 36,  37,  26],\n",
              "       [ 20,  37,  75],\n",
              "       [ 65,  38,  35],\n",
              "       [ 24,  38,  92],\n",
              "       [ 48,  39,  36],\n",
              "       [ 31,  39,  61],\n",
              "       [ 49,  39,  28],\n",
              "       [ 24,  39,  65],\n",
              "       [ 50,  40,  55],\n",
              "       [ 27,  40,  47],\n",
              "       [ 29,  40,  42],\n",
              "       [ 31,  40,  42],\n",
              "       [ 49,  42,  52],\n",
              "       [ 33,  42,  60],\n",
              "       [ 31,  43,  54],\n",
              "       [ 59,  43,  60],\n",
              "       [ 50,  43,  45],\n",
              "       [ 47,  43,  41],\n",
              "       [ 51,  44,  50],\n",
              "       [ 69,  44,  46],\n",
              "       [ 27,  46,  51],\n",
              "       [ 53,  46,  46],\n",
              "       [ 70,  46,  56],\n",
              "       [ 19,  46,  55],\n",
              "       [ 67,  47,  52],\n",
              "       [ 54,  47,  59],\n",
              "       [ 63,  48,  51],\n",
              "       [ 18,  48,  59],\n",
              "       [ 43,  48,  50],\n",
              "       [ 68,  48,  48],\n",
              "       [ 19,  48,  59],\n",
              "       [ 32,  48,  47],\n",
              "       [ 70,  49,  55],\n",
              "       [ 47,  49,  42],\n",
              "       [ 60,  50,  49],\n",
              "       [ 60,  50,  56],\n",
              "       [ 59,  54,  47],\n",
              "       [ 26,  54,  54],\n",
              "       [ 45,  54,  53],\n",
              "       [ 40,  54,  48],\n",
              "       [ 23,  54,  52],\n",
              "       [ 49,  54,  42],\n",
              "       [ 57,  54,  51],\n",
              "       [ 38,  54,  55],\n",
              "       [ 67,  54,  41],\n",
              "       [ 46,  54,  44],\n",
              "       [ 21,  54,  57],\n",
              "       [ 48,  54,  46],\n",
              "       [ 55,  57,  58],\n",
              "       [ 22,  57,  55],\n",
              "       [ 34,  58,  60],\n",
              "       [ 50,  58,  46],\n",
              "       [ 68,  59,  55],\n",
              "       [ 18,  59,  41],\n",
              "       [ 48,  60,  49],\n",
              "       [ 40,  60,  40],\n",
              "       [ 32,  60,  42],\n",
              "       [ 24,  60,  52],\n",
              "       [ 47,  60,  47],\n",
              "       [ 27,  60,  50],\n",
              "       [ 48,  61,  42],\n",
              "       [ 20,  61,  49],\n",
              "       [ 23,  62,  41],\n",
              "       [ 49,  62,  48],\n",
              "       [ 67,  62,  59],\n",
              "       [ 26,  62,  55],\n",
              "       [ 49,  62,  56],\n",
              "       [ 21,  62,  42],\n",
              "       [ 66,  63,  50],\n",
              "       [ 54,  63,  46],\n",
              "       [ 68,  63,  43],\n",
              "       [ 66,  63,  48],\n",
              "       [ 65,  63,  52],\n",
              "       [ 19,  63,  54],\n",
              "       [ 38,  64,  42],\n",
              "       [ 19,  64,  46],\n",
              "       [ 18,  65,  48],\n",
              "       [ 19,  65,  50],\n",
              "       [ 63,  65,  43],\n",
              "       [ 49,  65,  59],\n",
              "       [ 51,  67,  43],\n",
              "       [ 50,  67,  57],\n",
              "       [ 27,  67,  56],\n",
              "       [ 38,  67,  40],\n",
              "       [ 40,  69,  58],\n",
              "       [ 39,  69,  91],\n",
              "       [ 23,  70,  29],\n",
              "       [ 31,  70,  77],\n",
              "       [ 43,  71,  35],\n",
              "       [ 40,  71,  95],\n",
              "       [ 59,  71,  11],\n",
              "       [ 38,  71,  75],\n",
              "       [ 47,  71,   9],\n",
              "       [ 39,  71,  75],\n",
              "       [ 25,  72,  34],\n",
              "       [ 31,  72,  71],\n",
              "       [ 20,  73,   5],\n",
              "       [ 29,  73,  88],\n",
              "       [ 44,  73,   7],\n",
              "       [ 32,  73,  73],\n",
              "       [ 19,  74,  10],\n",
              "       [ 35,  74,  72],\n",
              "       [ 57,  75,   5],\n",
              "       [ 32,  75,  93],\n",
              "       [ 28,  76,  40],\n",
              "       [ 32,  76,  87],\n",
              "       [ 25,  77,  12],\n",
              "       [ 28,  77,  97],\n",
              "       [ 48,  77,  36],\n",
              "       [ 32,  77,  74],\n",
              "       [ 34,  78,  22],\n",
              "       [ 34,  78,  90],\n",
              "       [ 43,  78,  17],\n",
              "       [ 39,  78,  88],\n",
              "       [ 44,  78,  20],\n",
              "       [ 38,  78,  76],\n",
              "       [ 47,  78,  16],\n",
              "       [ 27,  78,  89],\n",
              "       [ 37,  78,   1],\n",
              "       [ 30,  78,  78],\n",
              "       [ 34,  78,   1],\n",
              "       [ 30,  78,  73],\n",
              "       [ 56,  79,  35],\n",
              "       [ 29,  79,  83],\n",
              "       [ 19,  81,   5],\n",
              "       [ 31,  81,  93],\n",
              "       [ 50,  85,  26],\n",
              "       [ 36,  85,  75],\n",
              "       [ 42,  86,  20],\n",
              "       [ 33,  86,  95],\n",
              "       [ 36,  87,  27],\n",
              "       [ 32,  87,  63],\n",
              "       [ 40,  87,  13],\n",
              "       [ 28,  87,  75],\n",
              "       [ 36,  87,  10],\n",
              "       [ 36,  87,  92],\n",
              "       [ 52,  88,  13],\n",
              "       [ 30,  88,  86],\n",
              "       [ 58,  88,  15],\n",
              "       [ 27,  88,  69],\n",
              "       [ 59,  93,  14],\n",
              "       [ 35,  93,  90],\n",
              "       [ 37,  97,  32],\n",
              "       [ 32,  97,  86],\n",
              "       [ 46,  98,  15],\n",
              "       [ 29,  98,  88],\n",
              "       [ 41,  99,  39],\n",
              "       [ 30,  99,  97],\n",
              "       [ 54, 101,  24],\n",
              "       [ 28, 101,  68],\n",
              "       [ 41, 103,  17],\n",
              "       [ 36, 103,  85],\n",
              "       [ 34, 103,  23],\n",
              "       [ 32, 103,  69],\n",
              "       [ 33, 113,   8],\n",
              "       [ 38, 113,  91],\n",
              "       [ 47, 120,  16],\n",
              "       [ 35, 120,  79],\n",
              "       [ 45, 126,  28],\n",
              "       [ 32, 126,  74],\n",
              "       [ 32, 137,  18],\n",
              "       [ 30, 137,  83]])"
            ]
          },
          "metadata": {},
          "execution_count": 3
        }
      ]
    },
    {
      "cell_type": "markdown",
      "source": [
        "#### Dendogram"
      ],
      "metadata": {
        "id": "hILrBzL3vYPK"
      }
    },
    {
      "cell_type": "code",
      "source": [
        "import scipy.cluster.hierarchy as sch\n",
        "dendrogram = sch.dendrogram(sch.linkage(X,method = 'ward'))\n",
        "plt.title('Dendrogram')\n",
        "plt.ylabel('Euclidean Distance')\n",
        "plt.show()"
      ],
      "metadata": {
        "colab": {
          "base_uri": "https://localhost:8080/",
          "height": 281
        },
        "id": "jCZd_XdTvG7V",
        "outputId": "635d8813-cae6-4467-d56e-bf0f5533136c"
      },
      "execution_count": null,
      "outputs": [
        {
          "output_type": "display_data",
          "data": {
            "text/plain": [
              "<Figure size 432x288 with 1 Axes>"
            ],
            "image/png": "[encoded data removed]"
          },
          "metadata": {
            "needs_background": "light"
          }
        }
      ]
    },
    {
      "cell_type": "markdown",
      "source": [
        "#### Fitting the Model"
      ],
      "metadata": {
        "id": "5lpx4U0FxBR6"
      }
    },
    {
      "cell_type": "code",
      "source": [
        "from sklearn.cluster import AgglomerativeClustering\n",
        "hc = AgglomerativeClustering(n_clusters=6,affinity = 'euclidean',linkage = 'ward')\n",
        "y_hc = hc.fit_predict(X)"
      ],
      "metadata": {
        "id": "KYnRYwoJv0bE"
      },
      "execution_count": null,
      "outputs": []
    },
    {
      "cell_type": "markdown",
      "source": [
        "#### Visualization"
      ],
      "metadata": {
        "id": "WaNbVAI9xwTK"
      }
    },
    {
      "cell_type": "code",
      "source": [
        "plt.scatter(X[y_hc == 0,0],X[y_hc == 0,1],s = 100, c = 'red', label = 'Cluster 1')\n",
        "plt.scatter(X[y_hc == 1,0],X[y_hc == 1,1],s = 100, c = 'yellow', label = 'Cluster 2')\n",
        "plt.scatter(X[y_hc == 2,0],X[y_hc == 2,1],s = 100, c = 'blue', label = 'Cluster 3')\n",
        "plt.scatter(X[y_hc == 3,0],X[y_hc == 3,1],s = 100, c = 'magenta', label = 'Cluster 4')\n",
        "plt.scatter(X[y_hc == 4,0],X[y_hc == 4,1],s = 100, c = 'cyan', label = 'Cluster 5')\n",
        "plt.scatter(X[y_hc == 5,0],X[y_hc == 5,1],s = 100, c = 'green', label = 'Cluster 6')\n",
        "plt.title('Cluster of Customer')\n",
        "plt.xlabel('Annual Income')\n",
        "plt.ylabel('Spending Score')\n",
        "plt.legend()\n",
        "plt.show()"
      ],
      "metadata": {
        "colab": {
          "base_uri": "https://localhost:8080/",
          "height": 295
        },
        "id": "epQENUUlxryU",
        "outputId": "c9b6250e-417d-4d5c-db13-51f0d17ec597"
      },
      "execution_count": null,
      "outputs": [
        {
          "output_type": "display_data",
          "data": {
            "text/plain": [
              "<Figure size 432x288 with 1 Axes>"
            ],
            "image/png": "[encoded data removed]"
          },
          "metadata": {
            "needs_background": "light"
          }
        }
      ]
    },
    {
      "cell_type": "markdown",
      "source": [
        "### K-MEANS CLUSTERING"
      ],
      "metadata": {
        "id": "ooSyg1gW2QzC"
      }
    },
    {
      "cell_type": "code",
      "source": [
        "import pandas as pd\n",
        "import matplotlib.pyplot as plt\n",
        "import numpy as np"
      ],
      "metadata": {
        "id": "cwQgYS43yjmR"
      },
      "execution_count": null,
      "outputs": []
    },
    {
      "cell_type": "code",
      "source": [
        "dataset = pd.read_csv('Mall_Customers.csv')\n",
        "X = dataset.iloc[:,[2,3,4]].values"
      ],
      "metadata": {
        "id": "KfasscES6Vyq"
      },
      "execution_count": null,
      "outputs": []
    },
    {
      "cell_type": "markdown",
      "source": [
        "#### Elbow Method\n",
        "Cluster to Create"
      ],
      "metadata": {
        "id": "xXV8N-Oj6aG4"
      }
    },
    {
      "cell_type": "code",
      "source": [
        "from sklearn.cluster import KMeans\n",
        "wcss = []\n",
        "for i in range(1,11):\n",
        "  kmeans = KMeans(n_clusters = i, init = 'k-means++',random_state = 42)\n",
        "  kmeans.fit(X)\n",
        "  wcss.append(kmeans.inertia_)\n",
        "plt.plot(range(1,11),wcss)\n",
        "plt.title('The Elbow Method')\n",
        "plt.xlabel('Number of Cluster')\n",
        "plt.ylabel('WCSS')\n",
        "plt.show()  "
      ],
      "metadata": {
        "colab": {
          "base_uri": "https://localhost:8080/",
          "height": 295
        },
        "id": "Q0zPy-ed6ZJo",
        "outputId": "3df58826-6a50-4597-9fce-e19f06248852"
      },
      "execution_count": null,
      "outputs": [
        {
          "output_type": "display_data",
          "data": {
            "text/plain": [
              "<Figure size 432x288 with 1 Axes>"
            ],
            "image/png": "[encoded data removed]"
          },
          "metadata": {
            "needs_background": "light"
          }
        }
      ]
    },
    {
      "cell_type": "markdown",
      "source": [
        "#### Fitting the Model"
      ],
      "metadata": {
        "id": "CXUf3Yx-8mC0"
      }
    },
    {
      "cell_type": "code",
      "source": [
        "kmeans = KMeans(n_clusters = 5,init = 'k-means++',random_state = 42)\n",
        "y_kmeans = kmeans.fit_predict(X)"
      ],
      "metadata": {
        "id": "6PeHihWv8pFN"
      },
      "execution_count": null,
      "outputs": []
    },
    {
      "cell_type": "markdown",
      "source": [
        "#### Visualization"
      ],
      "metadata": {
        "id": "Z2gf_FZX8F9f"
      }
    },
    {
      "cell_type": "code",
      "source": [
        "plt.scatter(X[y_kmeans == 0,0],X[y_kmeans == 0,1],s = 100, c = 'red', label = 'Cluster 1')\n",
        "plt.scatter(X[y_kmeans == 1,0],X[y_kmeans == 1,1],s = 100, c = 'yellow', label = 'Cluster 2')\n",
        "plt.scatter(X[y_kmeans == 2,0],X[y_kmeans == 2,1],s = 100, c = 'blue', label = 'Cluster 3')\n",
        "plt.scatter(X[y_kmeans == 3,0],X[y_kmeans == 3,1],s = 100, c = 'black', label = 'Cluster 4')\n",
        "plt.scatter(X[y_kmeans == 4,0],X[y_kmeans == 4,1],s = 100, c = 'magenta', label = 'Cluster 5')\n",
        "plt.xlabel('Annual Income')\n",
        "plt.ylabel('Spending Score')\n",
        "plt.legend()\n",
        "plt.show()"
      ],
      "metadata": {
        "colab": {
          "base_uri": "https://localhost:8080/",
          "height": 279
        },
        "id": "7etUpK9z6nUb",
        "outputId": "4349314c-5199-4b75-c00a-712e173f7b01"
      },
      "execution_count": null,
      "outputs": [
        {
          "output_type": "display_data",
          "data": {
            "text/plain": [
              "<Figure size 432x288 with 1 Axes>"
            ],
            "image/png": "[encoded data removed]"
          },
          "metadata": {
            "needs_background": "light"
          }
        }
      ]
    },
    {
      "cell_type": "code",
      "source": [
        ""
      ],
      "metadata": {
        "id": "RYZho5GK8-AQ"
      },
      "execution_count": null,
      "outputs": []
    }
  ]
}
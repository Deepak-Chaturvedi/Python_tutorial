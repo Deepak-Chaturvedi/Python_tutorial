{
 "cells": [
  {
   "cell_type": "markdown",
   "id": "f2b79aff",
   "metadata": {},
   "source": [
    "## Dictionaries"
   ]
  },
  {
   "cell_type": "code",
   "execution_count": 1,
   "id": "a3a2c5cb",
   "metadata": {},
   "outputs": [],
   "source": [
    "my_dict = {'key1':'value1','key2':'value2'}"
   ]
  },
  {
   "cell_type": "code",
   "execution_count": 2,
   "id": "65a38917",
   "metadata": {},
   "outputs": [
    {
     "data": {
      "text/plain": [
       "{'key1': 'value1', 'key2': 'value2'}"
      ]
     },
     "execution_count": 2,
     "metadata": {},
     "output_type": "execute_result"
    }
   ],
   "source": [
    "my_dict"
   ]
  },
  {
   "cell_type": "code",
   "execution_count": 3,
   "id": "de3eae6c",
   "metadata": {},
   "outputs": [
    {
     "data": {
      "text/plain": [
       "'value2'"
      ]
     },
     "execution_count": 3,
     "metadata": {},
     "output_type": "execute_result"
    }
   ],
   "source": [
    "my_dict['key2']"
   ]
  },
  {
   "cell_type": "code",
   "execution_count": 4,
   "id": "e48e8b34",
   "metadata": {},
   "outputs": [],
   "source": [
    "my_dict = {'key1':123,'key2':[1,2,3,4],'key3':'item3'}"
   ]
  },
  {
   "cell_type": "code",
   "execution_count": 5,
   "id": "187a5e18",
   "metadata": {},
   "outputs": [
    {
     "data": {
      "text/plain": [
       "{'key1': 123, 'key2': [1, 2, 3, 4], 'key3': 'item3'}"
      ]
     },
     "execution_count": 5,
     "metadata": {},
     "output_type": "execute_result"
    }
   ],
   "source": [
    "my_dict"
   ]
  },
  {
   "cell_type": "code",
   "execution_count": 6,
   "id": "4b295cb0",
   "metadata": {},
   "outputs": [
    {
     "data": {
      "text/plain": [
       "[1, 2, 3, 4]"
      ]
     },
     "execution_count": 6,
     "metadata": {},
     "output_type": "execute_result"
    }
   ],
   "source": [
    "my_dict['key2']"
   ]
  },
  {
   "cell_type": "code",
   "execution_count": 7,
   "id": "22a64d9b",
   "metadata": {},
   "outputs": [
    {
     "data": {
      "text/plain": [
       "4"
      ]
     },
     "execution_count": 7,
     "metadata": {},
     "output_type": "execute_result"
    }
   ],
   "source": [
    "my_dict['key2'][3]"
   ]
  },
  {
   "cell_type": "code",
   "execution_count": 8,
   "id": "2e1016e0",
   "metadata": {},
   "outputs": [],
   "source": [
    "my_dict['key3'] = 'Pratul'"
   ]
  },
  {
   "cell_type": "code",
   "execution_count": 9,
   "id": "9cfa2979",
   "metadata": {},
   "outputs": [
    {
     "data": {
      "text/plain": [
       "{'key1': 123, 'key2': [1, 2, 3, 4], 'key3': 'Pratul'}"
      ]
     },
     "execution_count": 9,
     "metadata": {},
     "output_type": "execute_result"
    }
   ],
   "source": [
    "my_dict"
   ]
  },
  {
   "cell_type": "code",
   "execution_count": 10,
   "id": "b5eedb1b",
   "metadata": {},
   "outputs": [],
   "source": [
    "d = {}"
   ]
  },
  {
   "cell_type": "code",
   "execution_count": 11,
   "id": "b837b290",
   "metadata": {},
   "outputs": [
    {
     "data": {
      "text/plain": [
       "{'animal': 'Dog'}"
      ]
     },
     "execution_count": 11,
     "metadata": {},
     "output_type": "execute_result"
    }
   ],
   "source": [
    "d['animal'] = 'Dog'\n",
    "d"
   ]
  },
  {
   "cell_type": "code",
   "execution_count": 12,
   "id": "a8c443cf",
   "metadata": {},
   "outputs": [
    {
     "data": {
      "text/plain": [
       "{'animal': 'Dog', 'mammal': 'humans'}"
      ]
     },
     "execution_count": 12,
     "metadata": {},
     "output_type": "execute_result"
    }
   ],
   "source": [
    "d['mammal'] = 'humans'\n",
    "d"
   ]
  },
  {
   "cell_type": "code",
   "execution_count": 13,
   "id": "0e5c2922",
   "metadata": {},
   "outputs": [],
   "source": [
    "d = {'key1':{'nestkey':{'subnestkey':'value'}}}"
   ]
  },
  {
   "cell_type": "code",
   "execution_count": 14,
   "id": "4200b066",
   "metadata": {},
   "outputs": [
    {
     "data": {
      "text/plain": [
       "'value'"
      ]
     },
     "execution_count": 14,
     "metadata": {},
     "output_type": "execute_result"
    }
   ],
   "source": [
    "d['key1']['nestkey']['subnestkey']"
   ]
  },
  {
   "cell_type": "code",
   "execution_count": 15,
   "id": "1f417108",
   "metadata": {},
   "outputs": [],
   "source": [
    "d = {'key1':1,'key2':2,'key3':3}"
   ]
  },
  {
   "cell_type": "code",
   "execution_count": 16,
   "id": "c1f35dff",
   "metadata": {},
   "outputs": [
    {
     "data": {
      "text/plain": [
       "['key1', 'key2', 'key3']"
      ]
     },
     "execution_count": 16,
     "metadata": {},
     "output_type": "execute_result"
    }
   ],
   "source": [
    "list(d.keys())"
   ]
  },
  {
   "cell_type": "code",
   "execution_count": 17,
   "id": "35d8c3f2",
   "metadata": {},
   "outputs": [
    {
     "data": {
      "text/plain": [
       "(1, 2, 3)"
      ]
     },
     "execution_count": 17,
     "metadata": {},
     "output_type": "execute_result"
    }
   ],
   "source": [
    "tuple(d.values())"
   ]
  },
  {
   "cell_type": "code",
   "execution_count": 18,
   "id": "19cf0140",
   "metadata": {},
   "outputs": [
    {
     "data": {
      "text/plain": [
       "dict_items([('key1', 1), ('key2', 2), ('key3', 3)])"
      ]
     },
     "execution_count": 18,
     "metadata": {},
     "output_type": "execute_result"
    }
   ],
   "source": [
    "d.items()"
   ]
  },
  {
   "cell_type": "markdown",
   "id": "66d9050c",
   "metadata": {},
   "source": [
    "## Sets and Boolean"
   ]
  },
  {
   "cell_type": "code",
   "execution_count": 19,
   "id": "e2b962da",
   "metadata": {},
   "outputs": [],
   "source": [
    "x = set()"
   ]
  },
  {
   "cell_type": "code",
   "execution_count": 20,
   "id": "ee892718",
   "metadata": {},
   "outputs": [],
   "source": [
    "x.add(1)"
   ]
  },
  {
   "cell_type": "code",
   "execution_count": 21,
   "id": "c032a839",
   "metadata": {},
   "outputs": [],
   "source": [
    "x.add(2)"
   ]
  },
  {
   "cell_type": "code",
   "execution_count": 22,
   "id": "b028bb84",
   "metadata": {},
   "outputs": [],
   "source": [
    "x.add(3)"
   ]
  },
  {
   "cell_type": "code",
   "execution_count": 23,
   "id": "191e71e0",
   "metadata": {},
   "outputs": [
    {
     "data": {
      "text/plain": [
       "{1, 2, 3}"
      ]
     },
     "execution_count": 23,
     "metadata": {},
     "output_type": "execute_result"
    }
   ],
   "source": [
    "x"
   ]
  },
  {
   "cell_type": "code",
   "execution_count": 24,
   "id": "08aa8095",
   "metadata": {},
   "outputs": [],
   "source": [
    "list1 = [1,1,2,2,3,4,5,-6,7,7,-7,8,-8,8,8]"
   ]
  },
  {
   "cell_type": "code",
   "execution_count": 25,
   "id": "7ee1d242",
   "metadata": {},
   "outputs": [
    {
     "data": {
      "text/plain": [
       "{-8, -7, -6, 1, 2, 3, 4, 5, 7, 8}"
      ]
     },
     "execution_count": 25,
     "metadata": {},
     "output_type": "execute_result"
    }
   ],
   "source": [
    "set(list1)"
   ]
  },
  {
   "cell_type": "code",
   "execution_count": 26,
   "id": "7c8e1c2c",
   "metadata": {},
   "outputs": [
    {
     "data": {
      "text/plain": [
       "(1, 'ZAB', -15, 'bcd', 'abc', -10, 'BCD', 'def', 'ABC')"
      ]
     },
     "execution_count": 26,
     "metadata": {},
     "output_type": "execute_result"
    }
   ],
   "source": [
    "list2 = [1,-15,-10,'abc','def','bcd','ABC','BCD','ZAB']\n",
    "tuple(set(list2))"
   ]
  },
  {
   "cell_type": "code",
   "execution_count": 27,
   "id": "d063cf16",
   "metadata": {},
   "outputs": [],
   "source": [
    "a = True"
   ]
  },
  {
   "cell_type": "code",
   "execution_count": 28,
   "id": "56edacde",
   "metadata": {},
   "outputs": [
    {
     "data": {
      "text/plain": [
       "True"
      ]
     },
     "execution_count": 28,
     "metadata": {},
     "output_type": "execute_result"
    }
   ],
   "source": [
    "a"
   ]
  },
  {
   "cell_type": "code",
   "execution_count": 29,
   "id": "9ace9faf",
   "metadata": {},
   "outputs": [],
   "source": [
    "a = False"
   ]
  },
  {
   "cell_type": "code",
   "execution_count": 30,
   "id": "c0ea799d",
   "metadata": {},
   "outputs": [
    {
     "data": {
      "text/plain": [
       "False"
      ]
     },
     "execution_count": 30,
     "metadata": {},
     "output_type": "execute_result"
    }
   ],
   "source": [
    "a"
   ]
  },
  {
   "cell_type": "code",
   "execution_count": 31,
   "id": "5ab776b0",
   "metadata": {},
   "outputs": [],
   "source": [
    "b = None"
   ]
  },
  {
   "cell_type": "code",
   "execution_count": 32,
   "id": "078732d3",
   "metadata": {},
   "outputs": [],
   "source": [
    "b"
   ]
  },
  {
   "cell_type": "markdown",
   "id": "ed61416c",
   "metadata": {},
   "source": [
    "## Print Formatting"
   ]
  },
  {
   "cell_type": "code",
   "execution_count": 33,
   "id": "86f07343",
   "metadata": {},
   "outputs": [
    {
     "name": "stdout",
     "output_type": "stream",
     "text": [
      "I'm going to inject something here.\n"
     ]
    }
   ],
   "source": [
    "print(\"I'm going to inject %s here.\" %'something')"
   ]
  },
  {
   "cell_type": "code",
   "execution_count": 34,
   "id": "4867c30a",
   "metadata": {},
   "outputs": [
    {
     "name": "stdout",
     "output_type": "stream",
     "text": [
      "I'm going to inject something here, and as well here.\n"
     ]
    }
   ],
   "source": [
    "print(\"I'm going to inject %s here, and %s here.\" %('something','as well'))"
   ]
  },
  {
   "cell_type": "code",
   "execution_count": 35,
   "id": "e2ea70db",
   "metadata": {},
   "outputs": [
    {
     "name": "stdout",
     "output_type": "stream",
     "text": [
      "I wrote 3.75 programs today.\n"
     ]
    }
   ],
   "source": [
    "print('I wrote %s programs today.'%3.75)"
   ]
  },
  {
   "cell_type": "code",
   "execution_count": 36,
   "id": "856b431e",
   "metadata": {},
   "outputs": [
    {
     "name": "stdout",
     "output_type": "stream",
     "text": [
      "I wrote 3 programs today.\n"
     ]
    }
   ],
   "source": [
    "print('I wrote %d programs today.'%3.75)"
   ]
  },
  {
   "cell_type": "code",
   "execution_count": 37,
   "id": "e2867456",
   "metadata": {},
   "outputs": [
    {
     "name": "stdout",
     "output_type": "stream",
     "text": [
      "Floating point number:               13.144\n"
     ]
    }
   ],
   "source": [
    "print('Floating point number: %20.3f'%(13.1442223333))"
   ]
  },
  {
   "cell_type": "code",
   "execution_count": 38,
   "id": "725496c3",
   "metadata": {},
   "outputs": [
    {
     "name": "stdout",
     "output_type": "stream",
     "text": [
      "This is a string with insert an\n"
     ]
    }
   ],
   "source": [
    "print('This is a string with {} an'.format('insert'))"
   ]
  },
  {
   "cell_type": "code",
   "execution_count": 39,
   "id": "552f4ecc",
   "metadata": {},
   "outputs": [
    {
     "name": "stdout",
     "output_type": "stream",
     "text": [
      "This is a string with insert an\n"
     ]
    }
   ],
   "source": [
    "print('This is a string with {} an'.format('insert'))"
   ]
  },
  {
   "cell_type": "code",
   "execution_count": 40,
   "id": "cbeacc55",
   "metadata": {},
   "outputs": [
    {
     "name": "stdout",
     "output_type": "stream",
     "text": [
      "This is a insert1 string with insert2 an\n"
     ]
    }
   ],
   "source": [
    "print('This is a {} string with {} an'.format('insert1','insert2'))"
   ]
  },
  {
   "cell_type": "code",
   "execution_count": 41,
   "id": "5714eb06",
   "metadata": {},
   "outputs": [
    {
     "name": "stdout",
     "output_type": "stream",
     "text": [
      "The quick brown fox\n"
     ]
    }
   ],
   "source": [
    "print('The {2} {1} {0}'.format('fox','brown','quick'))"
   ]
  },
  {
   "cell_type": "code",
   "execution_count": 42,
   "id": "62c70289",
   "metadata": {},
   "outputs": [
    {
     "name": "stdout",
     "output_type": "stream",
     "text": [
      "Enter the value of a: 111\n",
      "Printing a: 111\n"
     ]
    }
   ],
   "source": [
    "# User input\n",
    "a = int(input('Enter the value of a: '))\n",
    "print('Printing a:',a)"
   ]
  },
  {
   "cell_type": "markdown",
   "id": "1fee1aaf",
   "metadata": {},
   "source": [
    "## LOOPS"
   ]
  },
  {
   "cell_type": "markdown",
   "id": "a38c20c4",
   "metadata": {},
   "source": [
    "#### if, elif and else"
   ]
  },
  {
   "cell_type": "code",
   "execution_count": 43,
   "id": "2a417e11",
   "metadata": {},
   "outputs": [
    {
     "name": "stdout",
     "output_type": "stream",
     "text": [
      "It was True\n"
     ]
    }
   ],
   "source": [
    "if True:\n",
    "    print('It was True')"
   ]
  },
  {
   "cell_type": "code",
   "execution_count": 44,
   "id": "b7dd22ce",
   "metadata": {},
   "outputs": [
    {
     "name": "stdout",
     "output_type": "stream",
     "text": [
      "x was True\n"
     ]
    }
   ],
   "source": [
    "x  = True\n",
    "\n",
    "if x:\n",
    "    print('x was True') # it will print for true condition\n",
    "else:\n",
    "    print('X is actually False')"
   ]
  },
  {
   "cell_type": "code",
   "execution_count": 45,
   "id": "5aa801f4",
   "metadata": {},
   "outputs": [
    {
     "name": "stdout",
     "output_type": "stream",
     "text": [
      "This will be printed\n"
     ]
    }
   ],
   "source": [
    "loc = 'gang'\n",
    "\n",
    "if loc == 'Auto Shop':\n",
    "    print('Welcome to the Auto Shop')\n",
    "elif loc == 'bank':\n",
    "    print('Welcome to the bank')\n",
    "elif loc == 'gang':\n",
    "    print('This will be printed')\n",
    "else:\n",
    "    print('Where are you')"
   ]
  },
  {
   "cell_type": "code",
   "execution_count": 46,
   "id": "abde7483",
   "metadata": {},
   "outputs": [
    {
     "data": {
      "text/plain": [
       "False"
      ]
     },
     "execution_count": 46,
     "metadata": {},
     "output_type": "execute_result"
    }
   ],
   "source": [
    "2>3"
   ]
  },
  {
   "cell_type": "code",
   "execution_count": 47,
   "id": "20a972f7",
   "metadata": {},
   "outputs": [
    {
     "data": {
      "text/plain": [
       "False"
      ]
     },
     "execution_count": 47,
     "metadata": {},
     "output_type": "execute_result"
    }
   ],
   "source": [
    "2>=3"
   ]
  },
  {
   "cell_type": "markdown",
   "id": "87d9c8ba",
   "metadata": {},
   "source": [
    "### For Loops"
   ]
  },
  {
   "cell_type": "code",
   "execution_count": 48,
   "id": "81fed7c5",
   "metadata": {},
   "outputs": [],
   "source": [
    "list1 = [1,2,2,3,4,5,5,6,6,7,8,8,9,10]"
   ]
  },
  {
   "cell_type": "code",
   "execution_count": 49,
   "id": "ea9aaa5d",
   "metadata": {},
   "outputs": [
    {
     "name": "stdout",
     "output_type": "stream",
     "text": [
      "1\n",
      "2\n",
      "2\n",
      "3\n",
      "4\n",
      "5\n",
      "5\n",
      "6\n",
      "6\n",
      "7\n",
      "8\n",
      "8\n",
      "9\n",
      "10\n"
     ]
    }
   ],
   "source": [
    "for abc in list1:\n",
    "    print(abc)"
   ]
  },
  {
   "cell_type": "code",
   "execution_count": 50,
   "id": "8bc880e6",
   "metadata": {},
   "outputs": [
    {
     "data": {
      "text/plain": [
       "0"
      ]
     },
     "execution_count": 50,
     "metadata": {},
     "output_type": "execute_result"
    }
   ],
   "source": [
    "10 % 2"
   ]
  },
  {
   "cell_type": "code",
   "execution_count": 51,
   "id": "c4076ef3",
   "metadata": {},
   "outputs": [
    {
     "data": {
      "text/plain": [
       "1"
      ]
     },
     "execution_count": 51,
     "metadata": {},
     "output_type": "execute_result"
    }
   ],
   "source": [
    "11 % 2"
   ]
  },
  {
   "cell_type": "code",
   "execution_count": 52,
   "id": "e4b4ffa6",
   "metadata": {},
   "outputs": [
    {
     "data": {
      "text/plain": [
       "[1, 2, 2, 3, 4, 5, 5, 6, 6, 7, 8, 8, 9, 10]"
      ]
     },
     "execution_count": 52,
     "metadata": {},
     "output_type": "execute_result"
    }
   ],
   "source": [
    "list1"
   ]
  },
  {
   "cell_type": "code",
   "execution_count": 53,
   "id": "57af9fc2",
   "metadata": {},
   "outputs": [
    {
     "name": "stdout",
     "output_type": "stream",
     "text": [
      "This is an odd numbers : 1\n",
      "This is an odd numbers : 3\n",
      "This is an odd numbers : 5\n",
      "This is an odd numbers : 5\n",
      "This is an odd numbers : 7\n",
      "This is an odd numbers : 9\n"
     ]
    }
   ],
   "source": [
    "for i in list1:\n",
    "    if i % 2 == 1:\n",
    "        print('This is an odd numbers :', i)"
   ]
  },
  {
   "cell_type": "code",
   "execution_count": 54,
   "id": "62a15f5f",
   "metadata": {},
   "outputs": [
    {
     "data": {
      "text/plain": [
       "[1, 2, 3, 4, 5, 6, 7, 8, 9, 10]"
      ]
     },
     "execution_count": 54,
     "metadata": {},
     "output_type": "execute_result"
    }
   ],
   "source": [
    "list(range(1,11,1))"
   ]
  },
  {
   "cell_type": "code",
   "execution_count": 55,
   "id": "87fbf768",
   "metadata": {},
   "outputs": [
    {
     "name": "stdout",
     "output_type": "stream",
     "text": [
      "55\n"
     ]
    }
   ],
   "source": [
    "list2 = list(range(1,11,1))\n",
    "\n",
    "list_sum = 0\n",
    "\n",
    "for num in list2:\n",
    "    list_sum = list_sum + num\n",
    "\n",
    "print(list_sum)"
   ]
  },
  {
   "cell_type": "code",
   "execution_count": 56,
   "id": "c972bc3e",
   "metadata": {},
   "outputs": [
    {
     "data": {
      "text/plain": [
       "[1, 101, 201, 301, 401, 501, 601, 701, 801, 901, 1001]"
      ]
     },
     "execution_count": 56,
     "metadata": {},
     "output_type": "execute_result"
    }
   ],
   "source": [
    "list(range(1,1002,100))"
   ]
  },
  {
   "cell_type": "code",
   "execution_count": 57,
   "id": "6bcf4bde",
   "metadata": {},
   "outputs": [
    {
     "data": {
      "text/plain": [
       "[1001, 901, 801, 701, 601, 501, 401, 301, 201, 101, 1]"
      ]
     },
     "execution_count": 57,
     "metadata": {},
     "output_type": "execute_result"
    }
   ],
   "source": [
    "list(range(1001,0,-100))"
   ]
  },
  {
   "cell_type": "code",
   "execution_count": 58,
   "id": "420387dd",
   "metadata": {},
   "outputs": [
    {
     "name": "stdout",
     "output_type": "stream",
     "text": [
      "T\n",
      "h\n",
      "i\n",
      "s\n",
      " \n",
      "i\n",
      "s\n",
      " \n",
      "a\n",
      " \n",
      "s\n",
      "t\n",
      "r\n",
      "i\n",
      "n\n",
      "g\n"
     ]
    }
   ],
   "source": [
    "for a in 'This is a string':\n",
    "    print(a)"
   ]
  },
  {
   "cell_type": "code",
   "execution_count": 59,
   "id": "0f7a3a13",
   "metadata": {},
   "outputs": [
    {
     "name": "stdout",
     "output_type": "stream",
     "text": [
      "1\n",
      "2\n",
      "3\n",
      "4\n",
      "5\n"
     ]
    }
   ],
   "source": [
    "tup = (1,2,3,4,5)\n",
    "for t in tup:\n",
    "    print(t)"
   ]
  },
  {
   "cell_type": "markdown",
   "id": "4bb8968c",
   "metadata": {},
   "source": [
    "### While Loop"
   ]
  },
  {
   "cell_type": "code",
   "execution_count": 60,
   "id": "1f9be2c6",
   "metadata": {},
   "outputs": [
    {
     "name": "stdout",
     "output_type": "stream",
     "text": [
      "The looped value for x: 1\n",
      "The looped value for x: 2\n",
      "The looped value for x: 3\n",
      "The looped value for x: 4\n",
      "The looped value for x: 5\n",
      "The looped value for x: 6\n",
      "The looped value for x: 7\n",
      "The looped value for x: 8\n",
      "The looped value for x: 9\n",
      "The looped value for x: 10\n"
     ]
    }
   ],
   "source": [
    "x = 0\n",
    "while x < 10: # Loop will go on until or unless this condition is satisfied\n",
    "    x = x+1\n",
    "    print('The looped value for x:', x)"
   ]
  },
  {
   "cell_type": "code",
   "execution_count": 61,
   "id": "9654fbb2",
   "metadata": {},
   "outputs": [
    {
     "name": "stdout",
     "output_type": "stream",
     "text": [
      "this is not autoshop\n"
     ]
    }
   ],
   "source": [
    "loc ='shop'\n",
    "    \n",
    "if loc == 'autoshop':\n",
    "    print('this is a autoshop') \n",
    "else:\n",
    "    print('this is not autoshop')"
   ]
  },
  {
   "cell_type": "code",
   "execution_count": 62,
   "id": "bc952a39",
   "metadata": {},
   "outputs": [
    {
     "name": "stdout",
     "output_type": "stream",
     "text": [
      "1\n",
      "2\n"
     ]
    }
   ],
   "source": [
    "j=1\n",
    "while j<3:\n",
    "    print(j)\n",
    "    j=j+1"
   ]
  },
  {
   "cell_type": "markdown",
   "id": "695854a1",
   "metadata": {},
   "source": [
    "## Useful Operator"
   ]
  },
  {
   "cell_type": "code",
   "execution_count": 63,
   "id": "2d189576",
   "metadata": {},
   "outputs": [
    {
     "name": "stdout",
     "output_type": "stream",
     "text": [
      "At index 0 the letter is a\n",
      "At index 1 the letter is b\n",
      "At index 2 the letter is c\n",
      "At index 3 the letter is d\n",
      "At index 4 the letter is e\n"
     ]
    }
   ],
   "source": [
    "index_count = 0\n",
    "\n",
    "for letter in 'abcde':\n",
    "    print(\"At index {} the letter is {}\".format(index_count,letter))\n",
    "    index_count += 1"
   ]
  },
  {
   "cell_type": "code",
   "execution_count": 67,
   "id": "812d0791",
   "metadata": {},
   "outputs": [
    {
     "data": {
      "text/plain": [
       "[(0, 'a'), (1, 'b'), (2, 'c'), (3, 'd'), (4, 'e')]"
      ]
     },
     "execution_count": 67,
     "metadata": {},
     "output_type": "execute_result"
    }
   ],
   "source": [
    "list(enumerate('abcde'))"
   ]
  },
  {
   "cell_type": "code",
   "execution_count": 65,
   "id": "355605c9",
   "metadata": {},
   "outputs": [
    {
     "name": "stdout",
     "output_type": "stream",
     "text": [
      "At index 0 the letter is a\n",
      "At index 1 the letter is b\n",
      "At index 2 the letter is c\n",
      "At index 3 the letter is d\n",
      "At index 4 the letter is e\n"
     ]
    }
   ],
   "source": [
    "for i,letter in enumerate('abcde'):\n",
    "    print(\"At index {} the letter is {}\".format(i,letter))"
   ]
  },
  {
   "cell_type": "code",
   "execution_count": 78,
   "id": "6a77d18d",
   "metadata": {},
   "outputs": [],
   "source": [
    "mylist1 = [1,2,3,4,5]\n",
    "mylist2 = ['a','b','c','d','e','f']\n",
    "mylist3 = ['11','22','33','44','55','66','77']"
   ]
  },
  {
   "cell_type": "code",
   "execution_count": 79,
   "id": "2fc57b73",
   "metadata": {},
   "outputs": [
    {
     "data": {
      "text/plain": [
       "[(1, 'a', '11'),\n",
       " (2, 'b', '22'),\n",
       " (3, 'c', '33'),\n",
       " (4, 'd', '44'),\n",
       " (5, 'e', '55')]"
      ]
     },
     "execution_count": 79,
     "metadata": {},
     "output_type": "execute_result"
    }
   ],
   "source": [
    "list(zip(mylist1,mylist2,mylist3))"
   ]
  },
  {
   "cell_type": "code",
   "execution_count": 82,
   "id": "2ec04a99",
   "metadata": {},
   "outputs": [
    {
     "name": "stdout",
     "output_type": "stream",
     "text": [
      "for the tuple was 1 and second item was a and third item was 11\n",
      "for the tuple was 2 and second item was b and third item was 22\n",
      "for the tuple was 3 and second item was c and third item was 33\n",
      "for the tuple was 4 and second item was d and third item was 44\n",
      "for the tuple was 5 and second item was e and third item was 55\n"
     ]
    }
   ],
   "source": [
    "for item1,item2,item3 in zip(mylist1,mylist2,mylist3):\n",
    "    print('for the tuple was {} and second item was {} and third item was {}'.format(item1,item2,item3))"
   ]
  },
  {
   "cell_type": "code",
   "execution_count": 83,
   "id": "fbf9dce5",
   "metadata": {},
   "outputs": [
    {
     "data": {
      "text/plain": [
       "True"
      ]
     },
     "execution_count": 83,
     "metadata": {},
     "output_type": "execute_result"
    }
   ],
   "source": [
    "'x' in ['x','y','z']"
   ]
  },
  {
   "cell_type": "code",
   "execution_count": 85,
   "id": "84970bb0",
   "metadata": {},
   "outputs": [
    {
     "data": {
      "text/plain": [
       "True"
      ]
     },
     "execution_count": 85,
     "metadata": {},
     "output_type": "execute_result"
    }
   ],
   "source": [
    "'x' not in [1,2,3]"
   ]
  },
  {
   "cell_type": "code",
   "execution_count": 86,
   "id": "f061ccfd",
   "metadata": {},
   "outputs": [],
   "source": [
    "mylist = [10,20,30,40,50]"
   ]
  },
  {
   "cell_type": "code",
   "execution_count": 87,
   "id": "48da3ac8",
   "metadata": {},
   "outputs": [
    {
     "data": {
      "text/plain": [
       "50"
      ]
     },
     "execution_count": 87,
     "metadata": {},
     "output_type": "execute_result"
    }
   ],
   "source": [
    "max(mylist)"
   ]
  },
  {
   "cell_type": "code",
   "execution_count": 89,
   "id": "84e55ca8",
   "metadata": {},
   "outputs": [
    {
     "data": {
      "text/plain": [
       "10"
      ]
     },
     "execution_count": 89,
     "metadata": {},
     "output_type": "execute_result"
    }
   ],
   "source": [
    "min(mylist)"
   ]
  },
  {
   "cell_type": "code",
   "execution_count": 91,
   "id": "57dfd6ee",
   "metadata": {},
   "outputs": [
    {
     "data": {
      "text/plain": [
       "150"
      ]
     },
     "execution_count": 91,
     "metadata": {},
     "output_type": "execute_result"
    }
   ],
   "source": [
    "sum(mylist)"
   ]
  },
  {
   "cell_type": "code",
   "execution_count": 122,
   "id": "b5c6fa92",
   "metadata": {},
   "outputs": [],
   "source": [
    "def Average(mylist):\n",
    "    return sum(mylist)/len(mylist)"
   ]
  },
  {
   "cell_type": "code",
   "execution_count": 123,
   "id": "bd6a0d5f",
   "metadata": {},
   "outputs": [
    {
     "data": {
      "text/plain": [
       "30.0"
      ]
     },
     "execution_count": 123,
     "metadata": {},
     "output_type": "execute_result"
    }
   ],
   "source": [
    "Average(mylist)"
   ]
  },
  {
   "cell_type": "markdown",
   "id": "79d2d95b",
   "metadata": {},
   "source": [
    "### List Comprehension"
   ]
  },
  {
   "cell_type": "code",
   "execution_count": 101,
   "id": "6b298f88",
   "metadata": {},
   "outputs": [],
   "source": [
    "lst = [x for x in 'word']"
   ]
  },
  {
   "cell_type": "code",
   "execution_count": 102,
   "id": "5684e379",
   "metadata": {},
   "outputs": [
    {
     "data": {
      "text/plain": [
       "['w', 'o', 'r', 'd']"
      ]
     },
     "execution_count": 102,
     "metadata": {},
     "output_type": "execute_result"
    }
   ],
   "source": [
    "lst"
   ]
  },
  {
   "cell_type": "code",
   "execution_count": 114,
   "id": "e3bbaf98",
   "metadata": {},
   "outputs": [],
   "source": [
    "lst = [x**4 for x in range(0,11)]"
   ]
  },
  {
   "cell_type": "code",
   "execution_count": 115,
   "id": "f09e62d3",
   "metadata": {},
   "outputs": [
    {
     "data": {
      "text/plain": [
       "[0, 1, 16, 81, 256, 625, 1296, 2401, 4096, 6561, 10000]"
      ]
     },
     "execution_count": 115,
     "metadata": {},
     "output_type": "execute_result"
    }
   ],
   "source": [
    "lst"
   ]
  },
  {
   "cell_type": "code",
   "execution_count": 109,
   "id": "5283d793",
   "metadata": {},
   "outputs": [],
   "source": [
    "lst = [x for x in range(0,20) if x % 2 == 0]"
   ]
  },
  {
   "cell_type": "code",
   "execution_count": 110,
   "id": "5907383f",
   "metadata": {},
   "outputs": [
    {
     "data": {
      "text/plain": [
       "[0, 2, 4, 6, 8, 10, 12, 14, 16, 18]"
      ]
     },
     "execution_count": 110,
     "metadata": {},
     "output_type": "execute_result"
    }
   ],
   "source": [
    "lst"
   ]
  },
  {
   "cell_type": "code",
   "execution_count": 111,
   "id": "4cf71941",
   "metadata": {},
   "outputs": [
    {
     "data": {
      "text/plain": [
       "[32.0, 50.0, 68.18, 94.1]"
      ]
     },
     "execution_count": 111,
     "metadata": {},
     "output_type": "execute_result"
    }
   ],
   "source": [
    "celcius = [0,10,20.1,34.5]\n",
    "\n",
    "f = [((9/5)*t + 32) for t in celcius]\n",
    "\n",
    "f"
   ]
  },
  {
   "cell_type": "code",
   "execution_count": 116,
   "id": "d0cc89f0",
   "metadata": {},
   "outputs": [],
   "source": [
    "lst = [((9/5)*x + 32) for x in [x**2 for x in range(11)]]"
   ]
  },
  {
   "cell_type": "code",
   "execution_count": 117,
   "id": "2020bbe7",
   "metadata": {},
   "outputs": [
    {
     "data": {
      "text/plain": [
       "[32.0, 33.8, 39.2, 48.2, 60.8, 77.0, 96.8, 120.2, 147.2, 177.8, 212.0]"
      ]
     },
     "execution_count": 117,
     "metadata": {},
     "output_type": "execute_result"
    }
   ],
   "source": [
    "lst"
   ]
  },
  {
   "cell_type": "code",
   "execution_count": 119,
   "id": "1c1c6160",
   "metadata": {},
   "outputs": [
    {
     "data": {
      "text/plain": [
       "[0, 1, 4, 9, 16, 25, 36, 49, 64, 81, 100]"
      ]
     },
     "execution_count": 119,
     "metadata": {},
     "output_type": "execute_result"
    }
   ],
   "source": [
    "[x**2 for x in range(11)]"
   ]
  },
  {
   "cell_type": "markdown",
   "id": "91b8dece",
   "metadata": {},
   "source": [
    "### Function"
   ]
  },
  {
   "cell_type": "raw",
   "id": "9cf1cf69",
   "metadata": {},
   "source": [
    "1.def keywords\n",
    "2.example\n",
    "3.calling\n",
    "4.parameters\n",
    "5.print vs return\n",
    "6.inserting"
   ]
  },
  {
   "cell_type": "code",
   "execution_count": 124,
   "id": "9846cb56",
   "metadata": {},
   "outputs": [],
   "source": [
    "def name(arg1,arg2):\n",
    "    '''The Doc string will be\n",
    "    Created\n",
    "    '''\n",
    "    # Do something\n",
    "    # Return the result"
   ]
  },
  {
   "cell_type": "code",
   "execution_count": 125,
   "id": "d402644b",
   "metadata": {},
   "outputs": [],
   "source": [
    "def say_hello():\n",
    "    print('hello')"
   ]
  },
  {
   "cell_type": "code",
   "execution_count": 126,
   "id": "19f1396b",
   "metadata": {},
   "outputs": [
    {
     "name": "stdout",
     "output_type": "stream",
     "text": [
      "hello\n"
     ]
    }
   ],
   "source": [
    "say_hello()"
   ]
  },
  {
   "cell_type": "code",
   "execution_count": 127,
   "id": "b8881952",
   "metadata": {},
   "outputs": [
    {
     "data": {
      "text/plain": [
       "<function __main__.say_hello()>"
      ]
     },
     "execution_count": 127,
     "metadata": {},
     "output_type": "execute_result"
    }
   ],
   "source": [
    "say_hello"
   ]
  },
  {
   "cell_type": "code",
   "execution_count": 128,
   "id": "e9bd70cd",
   "metadata": {},
   "outputs": [
    {
     "data": {
      "text/plain": [
       "<function len(obj, /)>"
      ]
     },
     "execution_count": 128,
     "metadata": {},
     "output_type": "execute_result"
    }
   ],
   "source": [
    "len"
   ]
  },
  {
   "cell_type": "code",
   "execution_count": 129,
   "id": "0aa869bf",
   "metadata": {},
   "outputs": [],
   "source": [
    "def greeting(name):\n",
    "    print(f'Hello{name}')"
   ]
  },
  {
   "cell_type": "code",
   "execution_count": 131,
   "id": "22b57855",
   "metadata": {},
   "outputs": [
    {
     "name": "stdout",
     "output_type": "stream",
     "text": [
      "Hello Pratul\n"
     ]
    }
   ],
   "source": [
    "greeting(' Pratul')"
   ]
  },
  {
   "cell_type": "code",
   "execution_count": 132,
   "id": "5f664132",
   "metadata": {},
   "outputs": [],
   "source": [
    "def add_num(num1,num2):\n",
    "    return num1+num2"
   ]
  },
  {
   "cell_type": "code",
   "execution_count": 133,
   "id": "5c3c3048",
   "metadata": {},
   "outputs": [
    {
     "data": {
      "text/plain": [
       "<function __main__.add_num(num1, num2)>"
      ]
     },
     "execution_count": 133,
     "metadata": {},
     "output_type": "execute_result"
    }
   ],
   "source": [
    "add_num"
   ]
  },
  {
   "cell_type": "code",
   "execution_count": 134,
   "id": "5825bcc9",
   "metadata": {},
   "outputs": [
    {
     "data": {
      "text/plain": [
       "30"
      ]
     },
     "execution_count": 134,
     "metadata": {},
     "output_type": "execute_result"
    }
   ],
   "source": [
    "add_num(10,20)"
   ]
  },
  {
   "cell_type": "code",
   "execution_count": 135,
   "id": "6d201b4a",
   "metadata": {},
   "outputs": [
    {
     "data": {
      "text/plain": [
       "'ABCDEF'"
      ]
     },
     "execution_count": 135,
     "metadata": {},
     "output_type": "execute_result"
    }
   ],
   "source": [
    "add_num('ABC','DEF')"
   ]
  },
  {
   "cell_type": "code",
   "execution_count": 140,
   "id": "5cb139c1",
   "metadata": {},
   "outputs": [],
   "source": [
    "def print_result(a,b):\n",
    "    print(a+b)"
   ]
  },
  {
   "cell_type": "code",
   "execution_count": 138,
   "id": "47c89077",
   "metadata": {},
   "outputs": [],
   "source": [
    "def return_result(a,b):\n",
    "    return a+b"
   ]
  },
  {
   "cell_type": "code",
   "execution_count": 141,
   "id": "7201aa90",
   "metadata": {},
   "outputs": [
    {
     "name": "stdout",
     "output_type": "stream",
     "text": [
      "15\n"
     ]
    }
   ],
   "source": [
    "print_result(10,5)"
   ]
  },
  {
   "cell_type": "code",
   "execution_count": 142,
   "id": "9973492c",
   "metadata": {},
   "outputs": [
    {
     "data": {
      "text/plain": [
       "15"
      ]
     },
     "execution_count": 142,
     "metadata": {},
     "output_type": "execute_result"
    }
   ],
   "source": [
    "return_result(10,5)"
   ]
  },
  {
   "cell_type": "code",
   "execution_count": 143,
   "id": "75956ebd",
   "metadata": {},
   "outputs": [
    {
     "name": "stdout",
     "output_type": "stream",
     "text": [
      "15\n"
     ]
    }
   ],
   "source": [
    "my_result = print_result(10,5)"
   ]
  },
  {
   "cell_type": "code",
   "execution_count": 144,
   "id": "451212e1",
   "metadata": {},
   "outputs": [],
   "source": [
    "my_result"
   ]
  },
  {
   "cell_type": "code",
   "execution_count": 145,
   "id": "5f120e99",
   "metadata": {},
   "outputs": [],
   "source": [
    "my_result = return_result(10,5)"
   ]
  },
  {
   "cell_type": "code",
   "execution_count": 146,
   "id": "3ed20c34",
   "metadata": {},
   "outputs": [
    {
     "data": {
      "text/plain": [
       "15"
      ]
     },
     "execution_count": 146,
     "metadata": {},
     "output_type": "execute_result"
    }
   ],
   "source": [
    "my_result"
   ]
  },
  {
   "cell_type": "code",
   "execution_count": 147,
   "id": "055ef93c",
   "metadata": {},
   "outputs": [],
   "source": [
    "def even_check(number):\n",
    "    return number % 2 == 0"
   ]
  },
  {
   "cell_type": "code",
   "execution_count": 148,
   "id": "8fc00c87",
   "metadata": {},
   "outputs": [
    {
     "data": {
      "text/plain": [
       "True"
      ]
     },
     "execution_count": 148,
     "metadata": {},
     "output_type": "execute_result"
    }
   ],
   "source": [
    "even_check(20)"
   ]
  },
  {
   "cell_type": "code",
   "execution_count": 149,
   "id": "c0c99733",
   "metadata": {},
   "outputs": [
    {
     "data": {
      "text/plain": [
       "False"
      ]
     },
     "execution_count": 149,
     "metadata": {},
     "output_type": "execute_result"
    }
   ],
   "source": [
    "even_check(21)"
   ]
  },
  {
   "cell_type": "code",
   "execution_count": 156,
   "id": "eb6bb6be",
   "metadata": {},
   "outputs": [],
   "source": [
    "def check_even_list(num_list):\n",
    "    for number in num_list:\n",
    "        if number % 2 == 0:\n",
    "            return True\n",
    "        else:\n",
    "            pass"
   ]
  },
  {
   "cell_type": "code",
   "execution_count": 157,
   "id": "99032b86",
   "metadata": {},
   "outputs": [
    {
     "data": {
      "text/plain": [
       "True"
      ]
     },
     "execution_count": 157,
     "metadata": {},
     "output_type": "execute_result"
    }
   ],
   "source": [
    "check_even_list([1,2,3])"
   ]
  },
  {
   "cell_type": "code",
   "execution_count": 158,
   "id": "b17c15ac",
   "metadata": {},
   "outputs": [],
   "source": [
    "check_even_list([1,1,3])"
   ]
  },
  {
   "cell_type": "code",
   "execution_count": 159,
   "id": "fcad9b81",
   "metadata": {},
   "outputs": [],
   "source": [
    "stock_prices = [('Apple',200),('Google',100),('Msft',50)]"
   ]
  },
  {
   "cell_type": "code",
   "execution_count": 160,
   "id": "dadbcaa8",
   "metadata": {},
   "outputs": [
    {
     "name": "stdout",
     "output_type": "stream",
     "text": [
      "('Apple', 200)\n",
      "('Google', 100)\n",
      "('Msft', 50)\n"
     ]
    }
   ],
   "source": [
    "for item in stock_prices:\n",
    "    print(item)"
   ]
  },
  {
   "cell_type": "code",
   "execution_count": 161,
   "id": "1ddc96a7",
   "metadata": {},
   "outputs": [
    {
     "name": "stdout",
     "output_type": "stream",
     "text": [
      "200\n",
      "100\n",
      "50\n"
     ]
    }
   ],
   "source": [
    "for stock,price in stock_prices:\n",
    "    print(price)"
   ]
  },
  {
   "cell_type": "code",
   "execution_count": 162,
   "id": "8bc5be7a",
   "metadata": {},
   "outputs": [
    {
     "name": "stdout",
     "output_type": "stream",
     "text": [
      "Apple\n",
      "Google\n",
      "Msft\n"
     ]
    }
   ],
   "source": [
    "for stock,price in stock_prices:\n",
    "    print(stock)"
   ]
  },
  {
   "cell_type": "code",
   "execution_count": 164,
   "id": "e56d2419",
   "metadata": {},
   "outputs": [],
   "source": [
    "work_hours = [('A',100),('B',200),('C',400)]"
   ]
  },
  {
   "cell_type": "code",
   "execution_count": 169,
   "id": "94c66a60",
   "metadata": {},
   "outputs": [],
   "source": [
    "def employee_check(work_hours):\n",
    "    \n",
    "    current_max = 0    \n",
    "    \n",
    "    for employee,hours in work_hours:\n",
    "        if hours > current_max:\n",
    "            current_max = hours\n",
    "            employee_of_month = employee\n",
    "            \n",
    "        else:\n",
    "            pass\n",
    "        \n",
    "    return (employee_of_month,current_max)        "
   ]
  },
  {
   "cell_type": "code",
   "execution_count": 170,
   "id": "e87f157d",
   "metadata": {},
   "outputs": [
    {
     "data": {
      "text/plain": [
       "('C', 400)"
      ]
     },
     "execution_count": 170,
     "metadata": {},
     "output_type": "execute_result"
    }
   ],
   "source": [
    "employee_check(work_hours)"
   ]
  },
  {
   "cell_type": "markdown",
   "id": "1f0cfb54",
   "metadata": {},
   "source": [
    "### Lambda Expression: Map and Filter"
   ]
  },
  {
   "cell_type": "code",
   "execution_count": 171,
   "id": "16b09360",
   "metadata": {},
   "outputs": [],
   "source": [
    "def square(num):\n",
    "    return num**2"
   ]
  },
  {
   "cell_type": "code",
   "execution_count": 172,
   "id": "d200992b",
   "metadata": {},
   "outputs": [],
   "source": [
    "my_nums = [1,2,3,4,5]"
   ]
  },
  {
   "cell_type": "code",
   "execution_count": 173,
   "id": "bb157ebe",
   "metadata": {},
   "outputs": [
    {
     "data": {
      "text/plain": [
       "<map at 0x1de1db7a730>"
      ]
     },
     "execution_count": 173,
     "metadata": {},
     "output_type": "execute_result"
    }
   ],
   "source": [
    "map(square,my_nums)"
   ]
  },
  {
   "cell_type": "code",
   "execution_count": 174,
   "id": "096fa6c9",
   "metadata": {},
   "outputs": [
    {
     "data": {
      "text/plain": [
       "[1, 4, 9, 16, 25]"
      ]
     },
     "execution_count": 174,
     "metadata": {},
     "output_type": "execute_result"
    }
   ],
   "source": [
    "list(map(square,my_nums))"
   ]
  },
  {
   "cell_type": "code",
   "execution_count": 175,
   "id": "91f591cf",
   "metadata": {},
   "outputs": [],
   "source": [
    "def splicer(mystring):\n",
    "    if len(mystring) % 2 == 0:\n",
    "        return 'even'\n",
    "    else:\n",
    "        return mystring[0]"
   ]
  },
  {
   "cell_type": "code",
   "execution_count": 179,
   "id": "0616b1cf",
   "metadata": {},
   "outputs": [],
   "source": [
    "mynames = ['John','Cindy',\"Sarah\",'Bobb','Tom']"
   ]
  },
  {
   "cell_type": "code",
   "execution_count": 180,
   "id": "b0f82649",
   "metadata": {},
   "outputs": [
    {
     "data": {
      "text/plain": [
       "['even', 'C', 'S', 'even', 'T']"
      ]
     },
     "execution_count": 180,
     "metadata": {},
     "output_type": "execute_result"
    }
   ],
   "source": [
    "list(map(splicer,mynames))"
   ]
  }
 ],
 "metadata": {
  "kernelspec": {
   "display_name": "Python 3",
   "language": "python",
   "name": "python3"
  },
  "language_info": {
   "codemirror_mode": {
    "name": "ipython",
    "version": 3
   },
   "file_extension": ".py",
   "mimetype": "text/x-python",
   "name": "python",
   "nbconvert_exporter": "python",
   "pygments_lexer": "ipython3",
   "version": "3.7.5"
  }
 },
 "nbformat": 4,
 "nbformat_minor": 5
}

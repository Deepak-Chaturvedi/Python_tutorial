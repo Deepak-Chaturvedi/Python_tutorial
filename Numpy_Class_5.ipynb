{
  "nbformat": 4,
  "nbformat_minor": 0,
  "metadata": {
    "colab": {
      "name": "Numpy_Class_5.ipynb",
      "provenance": []
    },
    "kernelspec": {
      "name": "python3",
      "display_name": "Python 3"
    },
    "language_info": {
      "name": "python"
    }
  },
  "cells": [
    {
      "cell_type": "code",
      "execution_count": 1,
      "metadata": {
        "id": "2k4G5mK_xzPs"
      },
      "outputs": [],
      "source": [
        "import numpy as np"
      ]
    },
    {
      "cell_type": "code",
      "source": [
        "my_list = [0,1,2,3,4]\n",
        "\n",
        "arr = np.array(my_list)\n",
        "\n",
        "print(arr)"
      ],
      "metadata": {
        "colab": {
          "base_uri": "https://localhost:8080/"
        },
        "id": "nebUew2_yTMs",
        "outputId": "2a8f2ec6-2275-41a2-bf10-9a82a801fe3e"
      },
      "execution_count": 3,
      "outputs": [
        {
          "output_type": "stream",
          "name": "stdout",
          "text": [
            "[0 1 2 3 4]\n"
          ]
        }
      ]
    },
    {
      "cell_type": "code",
      "source": [
        "type(arr)"
      ],
      "metadata": {
        "colab": {
          "base_uri": "https://localhost:8080/"
        },
        "id": "ExSdLCJQyeaw",
        "outputId": "de628633-d274-4e34-d3b1-437f860e9970"
      },
      "execution_count": 4,
      "outputs": [
        {
          "output_type": "execute_result",
          "data": {
            "text/plain": [
              "numpy.ndarray"
            ]
          },
          "metadata": {},
          "execution_count": 4
        }
      ]
    },
    {
      "cell_type": "code",
      "source": [
        "# Arange integers start, stop,step in Numpy\n",
        "a = np.arange(1,50,4)\n",
        "print(a)"
      ],
      "metadata": {
        "colab": {
          "base_uri": "https://localhost:8080/"
        },
        "id": "---RgplrymYW",
        "outputId": "4642c521-6c21-407d-8257-267d953eb465"
      },
      "execution_count": 6,
      "outputs": [
        {
          "output_type": "stream",
          "name": "stdout",
          "text": [
            "[ 1  5  9 13 17 21 25 29 33 37 41 45 49]\n"
          ]
        }
      ]
    },
    {
      "cell_type": "code",
      "source": [
        "# Create an array of ones\n",
        "a = np.ones((2,4))\n",
        "print(a)"
      ],
      "metadata": {
        "colab": {
          "base_uri": "https://localhost:8080/"
        },
        "id": "8mo3m81py_Yf",
        "outputId": "1a1e3be2-6383-40ae-891a-6f85fe3c4d63"
      },
      "execution_count": 7,
      "outputs": [
        {
          "output_type": "stream",
          "name": "stdout",
          "text": [
            "[[1. 1. 1. 1.]\n",
            " [1. 1. 1. 1.]]\n"
          ]
        }
      ]
    },
    {
      "cell_type": "code",
      "source": [
        "# Create an array of zeroes\n",
        "a = np.zeros((2,4))\n",
        "print(a)"
      ],
      "metadata": {
        "colab": {
          "base_uri": "https://localhost:8080/"
        },
        "id": "oSr8cvMG6t6H",
        "outputId": "313de994-a034-459c-b630-290707523836"
      },
      "execution_count": 13,
      "outputs": [
        {
          "output_type": "stream",
          "name": "stdout",
          "text": [
            "[[0. 0. 0. 0.]\n",
            " [0. 0. 0. 0.]]\n"
          ]
        }
      ]
    },
    {
      "cell_type": "code",
      "source": [
        "# Create a array of random integers\n",
        "\n",
        "a = np.random.randint(0,10,(3,3))\n",
        "\n",
        "print(a)"
      ],
      "metadata": {
        "colab": {
          "base_uri": "https://localhost:8080/"
        },
        "id": "izNg_crF5j7u",
        "outputId": "44d0ce7e-0277-4e43-aad2-31a1cb5e0f18"
      },
      "execution_count": 17,
      "outputs": [
        {
          "output_type": "stream",
          "name": "stdout",
          "text": [
            "[[5 8 1]\n",
            " [5 9 1]\n",
            " [5 8 6]]\n"
          ]
        }
      ]
    },
    {
      "cell_type": "code",
      "source": [
        " #Create linearly spaced array\n",
        " a = np.linspace(0,10,5)\n",
        " \n",
        " print(a)"
      ],
      "metadata": {
        "colab": {
          "base_uri": "https://localhost:8080/"
        },
        "id": "kwBb-cGm6EAu",
        "outputId": "093f59f2-d66c-4fc8-ad27-80a4bc4f4efa"
      },
      "execution_count": 12,
      "outputs": [
        {
          "output_type": "stream",
          "name": "stdout",
          "text": [
            "[ 0.   2.5  5.   7.5 10. ]\n"
          ]
        }
      ]
    },
    {
      "cell_type": "code",
      "source": [
        "np.random.seed(100)\n",
        "\n",
        "arr = np.random.randint(0,100,10)\n",
        "\n",
        "print(arr)"
      ],
      "metadata": {
        "colab": {
          "base_uri": "https://localhost:8080/"
        },
        "id": "i1decEbx6Y5W",
        "outputId": "8dd696c3-99a4-4cc1-f152-7fc359d21b90"
      },
      "execution_count": 27,
      "outputs": [
        {
          "output_type": "stream",
          "name": "stdout",
          "text": [
            "[ 8 24 67 87 79 48 10 94 52 98]\n"
          ]
        }
      ]
    },
    {
      "cell_type": "code",
      "source": [
        "np.random.seed(100)\n",
        "\n",
        "arr2 = np.random.randint(0,100,10)\n",
        "\n",
        "print(arr2)"
      ],
      "metadata": {
        "colab": {
          "base_uri": "https://localhost:8080/"
        },
        "id": "lvXMljEM7L4f",
        "outputId": "8e8acc21-c35d-44a8-85ee-0ec39844c74d"
      },
      "execution_count": 28,
      "outputs": [
        {
          "output_type": "stream",
          "name": "stdout",
          "text": [
            "[ 8 24 67 87 79 48 10 94 52 98]\n"
          ]
        }
      ]
    },
    {
      "cell_type": "code",
      "source": [
        "print(arr2.max())"
      ],
      "metadata": {
        "colab": {
          "base_uri": "https://localhost:8080/"
        },
        "id": "jyKo3OlC7uab",
        "outputId": "589563ac-96e5-4388-c962-200ea9e1eeda"
      },
      "execution_count": 29,
      "outputs": [
        {
          "output_type": "stream",
          "name": "stdout",
          "text": [
            "98\n"
          ]
        }
      ]
    },
    {
      "cell_type": "code",
      "source": [
        "print(arr2.min())"
      ],
      "metadata": {
        "colab": {
          "base_uri": "https://localhost:8080/"
        },
        "id": "ipuW1_Ob7ywa",
        "outputId": "5b90228f-4524-4cb2-9da4-fac6e871bef8"
      },
      "execution_count": 30,
      "outputs": [
        {
          "output_type": "stream",
          "name": "stdout",
          "text": [
            "8\n"
          ]
        }
      ]
    },
    {
      "cell_type": "code",
      "source": [
        "print(arr2.mean())"
      ],
      "metadata": {
        "colab": {
          "base_uri": "https://localhost:8080/"
        },
        "id": "LtB3K80x71Ky",
        "outputId": "82b49d0a-26fa-4ae5-8756-402a86ffec59"
      },
      "execution_count": 31,
      "outputs": [
        {
          "output_type": "stream",
          "name": "stdout",
          "text": [
            "56.7\n"
          ]
        }
      ]
    },
    {
      "cell_type": "code",
      "source": [
        "print(round(arr2.std(),2))"
      ],
      "metadata": {
        "colab": {
          "base_uri": "https://localhost:8080/"
        },
        "id": "fBM2VoUd749H",
        "outputId": "d6793e85-30b3-4258-b074-7592d4740c49"
      },
      "execution_count": 33,
      "outputs": [
        {
          "output_type": "stream",
          "name": "stdout",
          "text": [
            "32.15\n"
          ]
        }
      ]
    },
    {
      "cell_type": "code",
      "source": [
        "np.random.seed(100)\n",
        "\n",
        "a = np.random.randint(0,100,(3,4))\n",
        "\n",
        "print(a)\n",
        "\n",
        "print(a.argmin())\n",
        "\n",
        "print(a.argmax())\n",
        "\n",
        "print(a.reshape(4,3))\n"
      ],
      "metadata": {
        "colab": {
          "base_uri": "https://localhost:8080/"
        },
        "id": "lR4mvQyM77HG",
        "outputId": "363e5d1c-d5b9-4539-8ac6-d4d9cbee8418"
      },
      "execution_count": 44,
      "outputs": [
        {
          "output_type": "stream",
          "name": "stdout",
          "text": [
            "[[ 8 24 67 87]\n",
            " [79 48 10 94]\n",
            " [52 98 53 66]]\n",
            "0\n",
            "9\n",
            "[[ 8 24 67]\n",
            " [87 79 48]\n",
            " [10 94 52]\n",
            " [98 53 66]]\n"
          ]
        }
      ]
    },
    {
      "cell_type": "code",
      "source": [
        "# We can use .reshape() method to change the shape of a 1d arry to 2d, 3d and so on\n",
        "np.random.seed(100)\n",
        "\n",
        "mat = np.arange(0,100).reshape(10,10)\n",
        "\n",
        "print(mat)"
      ],
      "metadata": {
        "colab": {
          "base_uri": "https://localhost:8080/"
        },
        "id": "I0o8fsmx8N0Q",
        "outputId": "35fe57f3-a952-4a4b-8ce6-7cf34bb946a8"
      },
      "execution_count": 46,
      "outputs": [
        {
          "output_type": "stream",
          "name": "stdout",
          "text": [
            "[[ 0  1  2  3  4  5  6  7  8  9]\n",
            " [10 11 12 13 14 15 16 17 18 19]\n",
            " [20 21 22 23 24 25 26 27 28 29]\n",
            " [30 31 32 33 34 35 36 37 38 39]\n",
            " [40 41 42 43 44 45 46 47 48 49]\n",
            " [50 51 52 53 54 55 56 57 58 59]\n",
            " [60 61 62 63 64 65 66 67 68 69]\n",
            " [70 71 72 73 74 75 76 77 78 79]\n",
            " [80 81 82 83 84 85 86 87 88 89]\n",
            " [90 91 92 93 94 95 96 97 98 99]]\n"
          ]
        }
      ]
    },
    {
      "cell_type": "code",
      "source": [
        "row = 0\n",
        "col = 1"
      ],
      "metadata": {
        "id": "AV90yoV79tm5"
      },
      "execution_count": 47,
      "outputs": []
    },
    {
      "cell_type": "code",
      "source": [
        "print(mat[row,col])"
      ],
      "metadata": {
        "colab": {
          "base_uri": "https://localhost:8080/"
        },
        "id": "lzFvntqO9zlP",
        "outputId": "01eca8f1-56ee-4e95-d960-e4c0bf48002c"
      },
      "execution_count": 48,
      "outputs": [
        {
          "output_type": "stream",
          "name": "stdout",
          "text": [
            "1\n"
          ]
        }
      ]
    },
    {
      "cell_type": "code",
      "source": [
        "print(mat[0,0])"
      ],
      "metadata": {
        "colab": {
          "base_uri": "https://localhost:8080/"
        },
        "id": "fhaZfkWF936R",
        "outputId": "85d92db3-c14e-475e-a6bd-3dd3657ae871"
      },
      "execution_count": 49,
      "outputs": [
        {
          "output_type": "stream",
          "name": "stdout",
          "text": [
            "0\n"
          ]
        }
      ]
    },
    {
      "cell_type": "code",
      "source": [
        "print(mat[6,0])"
      ],
      "metadata": {
        "colab": {
          "base_uri": "https://localhost:8080/"
        },
        "id": "VpkhUGyk-AFX",
        "outputId": "2d354488-a87b-43db-9168-6a9a38efdc4c"
      },
      "execution_count": 50,
      "outputs": [
        {
          "output_type": "stream",
          "name": "stdout",
          "text": [
            "60\n"
          ]
        }
      ]
    },
    {
      "cell_type": "code",
      "source": [
        "# Masking\n",
        "print(mat > 50)"
      ],
      "metadata": {
        "colab": {
          "base_uri": "https://localhost:8080/"
        },
        "id": "gvejsBle-Kn9",
        "outputId": "ee2a5567-b94c-4e4f-9b55-14a2d3a79a44"
      },
      "execution_count": 51,
      "outputs": [
        {
          "output_type": "stream",
          "name": "stdout",
          "text": [
            "[[False False False False False False False False False False]\n",
            " [False False False False False False False False False False]\n",
            " [False False False False False False False False False False]\n",
            " [False False False False False False False False False False]\n",
            " [False False False False False False False False False False]\n",
            " [False  True  True  True  True  True  True  True  True  True]\n",
            " [ True  True  True  True  True  True  True  True  True  True]\n",
            " [ True  True  True  True  True  True  True  True  True  True]\n",
            " [ True  True  True  True  True  True  True  True  True  True]\n",
            " [ True  True  True  True  True  True  True  True  True  True]]\n"
          ]
        }
      ]
    },
    {
      "cell_type": "code",
      "source": [
        "print(mat[(mat > 50) & (mat < 87)])"
      ],
      "metadata": {
        "colab": {
          "base_uri": "https://localhost:8080/"
        },
        "id": "wHf5XY_g-3St",
        "outputId": "7589f8c1-0f38-439d-c241-46aeecc9248c"
      },
      "execution_count": 59,
      "outputs": [
        {
          "output_type": "stream",
          "name": "stdout",
          "text": [
            "[51 52 53 54 55 56 57 58 59 60 61 62 63 64 65 66 67 68 69 70 71 72 73 74\n",
            " 75 76 77 78 79 80 81 82 83 84 85 86]\n"
          ]
        }
      ]
    }
  ]
}
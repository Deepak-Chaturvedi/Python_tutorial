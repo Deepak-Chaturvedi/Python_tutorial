{
 "cells": [
  {
   "cell_type": "markdown",
   "metadata": {
    "id": "9kpys4XVQeWE"
   },
   "source": [
    "# Overview of Regular Expressions\n",
    "\n",
    "Regular Expressions (sometimes called regex for short) allows a user to search for strings using almost any sort of rule they can come up. For example, finding all capital letters in a string, or finding a phone number in a document. \n",
    "\n",
    "Regular expressions are notorious for their seemingly strange syntax. This strange syntax is a byproduct of their flexibility. Regular expressions have to be able to filter out any string pattern you can imagine, which is why they have a complex string pattern format."
   ]
  },
  {
   "cell_type": "markdown",
   "metadata": {
    "id": "k34rx24sQeWF"
   },
   "source": [
    "Let's begin by explaining how to search for basic patterns in a string!"
   ]
  },
  {
   "cell_type": "markdown",
   "metadata": {
    "id": "m3NvcMKAQeWG"
   },
   "source": [
    "## Searching for Basic Patterns\n",
    "\n",
    "Let's imagine that we have the following string:"
   ]
  },
  {
   "cell_type": "code",
   "execution_count": null,
   "metadata": {
    "id": "uhYLjjJtAh2X"
   },
   "outputs": [],
   "source": [
    "text = \"The person's phone number is 408-555-1234. Call Soon!\""
   ]
  },
  {
   "cell_type": "markdown",
   "metadata": {
    "id": "RQzmmKBsQeWH"
   },
   "source": [
    "We'll start off by trying to find out if the string \"phone\" is inside the text string. Now we could quickly do this with:"
   ]
  },
  {
   "cell_type": "code",
   "execution_count": null,
   "metadata": {
    "colab": {
     "base_uri": "https://localhost:8080/"
    },
    "id": "pau4gtL6A96r",
    "outputId": "8d2df64c-791d-4344-d198-0ff568167871"
   },
   "outputs": [
    {
     "data": {
      "text/plain": [
       "True"
      ]
     },
     "execution_count": 2,
     "metadata": {},
     "output_type": "execute_result"
    }
   ],
   "source": [
    "'phone' in text"
   ]
  },
  {
   "cell_type": "markdown",
   "metadata": {
    "id": "tV0X4H4CQeWI"
   },
   "source": [
    "But let's show the format for regular expressions, because later on we will be searching for patterns that won't have such a simple solution."
   ]
  },
  {
   "cell_type": "code",
   "execution_count": 3,
   "metadata": {
    "executionInfo": {
     "elapsed": 424,
     "status": "ok",
     "timestamp": 1648957545480,
     "user": {
      "displayName": "Pratul Goyal",
      "userId": "00135603053735469607"
     },
     "user_tz": -330
    },
    "id": "rMwsOYJkBGR_"
   },
   "outputs": [],
   "source": [
    "import re"
   ]
  },
  {
   "cell_type": "code",
   "execution_count": null,
   "metadata": {
    "id": "f5iZ-yU4BINO"
   },
   "outputs": [],
   "source": [
    "pattern = 'phone'"
   ]
  },
  {
   "cell_type": "code",
   "execution_count": null,
   "metadata": {
    "colab": {
     "base_uri": "https://localhost:8080/"
    },
    "id": "xbBJxkyyBL1r",
    "outputId": "38a71286-2fbc-468b-927b-62a3e408cfde"
   },
   "outputs": [
    {
     "data": {
      "text/plain": [
       "<re.Match object; span=(13, 18), match='phone'>"
      ]
     },
     "execution_count": 5,
     "metadata": {},
     "output_type": "execute_result"
    }
   ],
   "source": [
    "re.search(pattern,text)"
   ]
  },
  {
   "cell_type": "code",
   "execution_count": null,
   "metadata": {
    "id": "RZ7d8DTcBY8e"
   },
   "outputs": [],
   "source": [
    "pattern = 'NOT IN TEXT'"
   ]
  },
  {
   "cell_type": "code",
   "execution_count": null,
   "metadata": {
    "id": "53fVvbeGBdqs"
   },
   "outputs": [],
   "source": [
    "re.search(pattern,text)"
   ]
  },
  {
   "cell_type": "markdown",
   "metadata": {
    "id": "-gvOiAB8QeWK"
   },
   "source": [
    "Now we've seen that re.search() will take the pattern, scan the text, and then returns a Match object. If no pattern is found, a None is returned (in Jupyter Notebook this just means that nothing is output below the cell).\n",
    "\n",
    "Let's take a closer look at this Match object."
   ]
  },
  {
   "cell_type": "code",
   "execution_count": null,
   "metadata": {
    "id": "parpp0clBmO-"
   },
   "outputs": [],
   "source": [
    "pattern = 'phone'"
   ]
  },
  {
   "cell_type": "code",
   "execution_count": null,
   "metadata": {
    "id": "3ivqcjqjBLXe"
   },
   "outputs": [],
   "source": [
    "match = re.search(pattern,text)"
   ]
  },
  {
   "cell_type": "code",
   "execution_count": null,
   "metadata": {
    "colab": {
     "base_uri": "https://localhost:8080/"
    },
    "id": "iSUh_wiLBsGm",
    "outputId": "291292c0-69cc-4a87-fed4-ec02a7f703e5"
   },
   "outputs": [
    {
     "data": {
      "text/plain": [
       "<re.Match object; span=(13, 18), match='phone'>"
      ]
     },
     "execution_count": 10,
     "metadata": {},
     "output_type": "execute_result"
    }
   ],
   "source": [
    "match"
   ]
  },
  {
   "cell_type": "markdown",
   "metadata": {
    "id": "GZh1PS2QQeWL"
   },
   "source": [
    "Notice the span, there is also a start and end index information."
   ]
  },
  {
   "cell_type": "code",
   "execution_count": null,
   "metadata": {
    "colab": {
     "base_uri": "https://localhost:8080/"
    },
    "id": "Pv6Jvzl7BvjA",
    "outputId": "fb8bd751-9faa-4300-e297-264fed3a0d7d"
   },
   "outputs": [
    {
     "data": {
      "text/plain": [
       "(3, 8)"
      ]
     },
     "execution_count": 17,
     "metadata": {},
     "output_type": "execute_result"
    }
   ],
   "source": [
    "match.span()"
   ]
  },
  {
   "cell_type": "code",
   "execution_count": null,
   "metadata": {
    "colab": {
     "base_uri": "https://localhost:8080/"
    },
    "id": "hGlnJvCQBxte",
    "outputId": "d915711b-d42f-4336-e161-5aea2d7cd665"
   },
   "outputs": [
    {
     "data": {
      "text/plain": [
       "13"
      ]
     },
     "execution_count": 13,
     "metadata": {},
     "output_type": "execute_result"
    }
   ],
   "source": [
    "match.start()"
   ]
  },
  {
   "cell_type": "code",
   "execution_count": null,
   "metadata": {
    "colab": {
     "base_uri": "https://localhost:8080/"
    },
    "id": "RZsJqDCkB1l6",
    "outputId": "70c88951-7a3c-44be-9314-60e9b75c5614"
   },
   "outputs": [
    {
     "data": {
      "text/plain": [
       "18"
      ]
     },
     "execution_count": 14,
     "metadata": {},
     "output_type": "execute_result"
    }
   ],
   "source": [
    "match.end()"
   ]
  },
  {
   "cell_type": "markdown",
   "metadata": {
    "id": "ISWG3Qk5QeWN"
   },
   "source": [
    "But what if the pattern occurs more than once?"
   ]
  },
  {
   "cell_type": "code",
   "execution_count": null,
   "metadata": {
    "id": "QLTU1rwaB5r0"
   },
   "outputs": [],
   "source": [
    "text = \"my phone is a new phone\""
   ]
  },
  {
   "cell_type": "code",
   "execution_count": null,
   "metadata": {
    "id": "DtRnf3wXCBza"
   },
   "outputs": [],
   "source": [
    "match = re.search(pattern,text)"
   ]
  },
  {
   "cell_type": "code",
   "execution_count": null,
   "metadata": {
    "colab": {
     "base_uri": "https://localhost:8080/"
    },
    "id": "ELHycEbXCIxi",
    "outputId": "77dbef63-df97-43de-ebde-b4b976f5c6a5"
   },
   "outputs": [
    {
     "data": {
      "text/plain": [
       "(3, 8)"
      ]
     },
     "execution_count": 18,
     "metadata": {},
     "output_type": "execute_result"
    }
   ],
   "source": [
    "match.span()"
   ]
  },
  {
   "cell_type": "markdown",
   "metadata": {
    "id": "UdQE2f2tQeWO"
   },
   "source": [
    "Notice it only matches the first instance. If we wanted a list of all matches, we can use .findall() method:"
   ]
  },
  {
   "cell_type": "code",
   "execution_count": null,
   "metadata": {
    "id": "QZEUnOfKCRNG"
   },
   "outputs": [],
   "source": [
    "matches = re.findall('phone',text)"
   ]
  },
  {
   "cell_type": "code",
   "execution_count": null,
   "metadata": {
    "colab": {
     "base_uri": "https://localhost:8080/"
    },
    "id": "lqJPCxEQCX5P",
    "outputId": "bb2af955-2cc1-4c73-d6c0-4bb237fa135b"
   },
   "outputs": [
    {
     "data": {
      "text/plain": [
       "['phone', 'phone']"
      ]
     },
     "execution_count": 22,
     "metadata": {},
     "output_type": "execute_result"
    }
   ],
   "source": [
    "matches"
   ]
  },
  {
   "cell_type": "markdown",
   "metadata": {
    "id": "ZVIBEya5QeWP"
   },
   "source": [
    "To get actual match objects, use the iterator:"
   ]
  },
  {
   "cell_type": "code",
   "execution_count": null,
   "metadata": {
    "colab": {
     "base_uri": "https://localhost:8080/"
    },
    "id": "uXYD0ajSCko3",
    "outputId": "4e6b9d10-e8ae-4c7b-caf1-764c07829078"
   },
   "outputs": [
    {
     "name": "stdout",
     "output_type": "stream",
     "text": [
      "(3, 8)\n",
      "(18, 23)\n"
     ]
    }
   ],
   "source": [
    "for match in re.finditer('phone',text):\n",
    "  print(match.span())"
   ]
  },
  {
   "cell_type": "markdown",
   "metadata": {
    "id": "weLvBp1OQeWQ"
   },
   "source": [
    "If you wanted the actual text that matched, you can use the .group() method."
   ]
  },
  {
   "cell_type": "code",
   "execution_count": null,
   "metadata": {
    "colab": {
     "base_uri": "https://localhost:8080/",
     "height": 35
    },
    "id": "RLh0U-SdC5o8",
    "outputId": "cc73416b-8d18-4141-a403-841bb22e99fd"
   },
   "outputs": [
    {
     "data": {
      "application/vnd.google.colaboratory.intrinsic+json": {
       "type": "string"
      },
      "text/plain": [
       "'phone'"
      ]
     },
     "execution_count": 24,
     "metadata": {},
     "output_type": "execute_result"
    }
   ],
   "source": [
    "match.group()"
   ]
  },
  {
   "cell_type": "markdown",
   "metadata": {
    "id": "mpiSoVu-QeWQ"
   },
   "source": [
    "# Patterns\n",
    "\n",
    "So far we've learned how to search for a basic string. What about more complex examples? Such as trying to find a telephone number in a large string of text? Or an email address?\n",
    "\n",
    "We could just use search method if we know the exact phone or email, but what if we don't know it? We may know the general format, and we can use that along with regular expressions to search the document for strings that match a particular pattern.\n",
    "\n",
    "This is where the syntax may appear strange at first, but take your time with this, often its just a matter of looking up the pattern code.\n",
    "\n",
    "Let' begin!"
   ]
  },
  {
   "cell_type": "markdown",
   "metadata": {
    "id": "I4d1mYNAQeWR"
   },
   "source": [
    "## Identifiers for Characters in Patterns\n",
    "\n",
    "Characters such as a digit or a single string have different codes that represent them. You can use these to build up a pattern string. Notice how these make heavy use of the backwards slash \\ . Because of this when defining a pattern string for regular expression we use the format:\n",
    "\n",
    "    r'mypattern'\n",
    "    \n",
    "placing the r in front of the string allows python to understand that the \\ in the pattern string are not meant to be escape slashes.\n",
    "\n",
    "Below you can find a table of all the possible identifiers:"
   ]
  },
  {
   "cell_type": "markdown",
   "metadata": {
    "id": "EDm_BT5VQeWR"
   },
   "source": [
    "<table ><tr><th>Character</th><th>Description</th><th>Example Pattern Code</th><th >Exammple Match</th></tr>\n",
    "\n",
    "<tr ><td><span >\\d</span></td><td>A digit</td><td>file_\\d\\d</td><td>file_25</td></tr>\n",
    "\n",
    "<tr ><td><span >\\w</span></td><td>Alphanumeric</td><td>\\w-\\w\\w\\w</td><td>A-b_1</td></tr>\n",
    "\n",
    "\n",
    "\n",
    "<tr ><td><span >\\s</span></td><td>White space</td><td>a\\sb\\sc</td><td>a b c</td></tr>\n",
    "\n",
    "\n",
    "\n",
    "<tr ><td><span >\\D</span></td><td>A non digit</td><td>\\D\\D\\D</td><td>ABC</td></tr>\n",
    "\n",
    "<tr ><td><span >\\W</span></td><td>Non-alphanumeric</td><td>\\W\\W\\W\\W\\W</td><td>*-+=)</td></tr>\n",
    "\n",
    "<tr ><td><span >\\S</span></td><td>Non-whitespace</td><td>\\S\\S\\S\\S</td><td>Yoyo</td></tr></table>"
   ]
  },
  {
   "cell_type": "markdown",
   "metadata": {
    "id": "gM6vsFkaQeWR"
   },
   "source": [
    "For example:"
   ]
  },
  {
   "cell_type": "code",
   "execution_count": null,
   "metadata": {
    "id": "yYTVCDKNDePc"
   },
   "outputs": [],
   "source": [
    "text = 'My telephone number is 408-555-1234'"
   ]
  },
  {
   "cell_type": "code",
   "execution_count": null,
   "metadata": {
    "id": "g0BwKrChDlgP"
   },
   "outputs": [],
   "source": [
    "phone = re.search(r'\\d\\d\\d-\\d\\d\\d-\\d\\d\\d\\d',text)"
   ]
  },
  {
   "cell_type": "code",
   "execution_count": null,
   "metadata": {
    "colab": {
     "base_uri": "https://localhost:8080/",
     "height": 35
    },
    "id": "KqJKdItVD1II",
    "outputId": "d63e35fa-6d89-460b-f297-02dae0a466b8"
   },
   "outputs": [
    {
     "data": {
      "application/vnd.google.colaboratory.intrinsic+json": {
       "type": "string"
      },
      "text/plain": [
       "'408-555-1234'"
      ]
     },
     "execution_count": 27,
     "metadata": {},
     "output_type": "execute_result"
    }
   ],
   "source": [
    "phone.group()"
   ]
  },
  {
   "cell_type": "markdown",
   "metadata": {
    "id": "fyOdz0u3QeWS"
   },
   "source": [
    "Notice the repetition of \\d. That is a bit of an annoyance, especially if we are looking for very long strings of numbers. Let's explore the possible quantifiers.\n",
    "\n",
    "## Quantifiers\n",
    "\n",
    "Now that we know the special character designations, we can use them along with quantifiers to define how many we expect."
   ]
  },
  {
   "cell_type": "markdown",
   "metadata": {
    "id": "EFLdE3OxQeWT"
   },
   "source": [
    "<table ><tr><th>Character</th><th>Description</th><th>Example Pattern Code</th><th >Exammple Match</th></tr>\n",
    "\n",
    "<tr ><td><span >+</span></td><td>Occurs one or more times</td><td>\tVersion \\w-\\w+</td><td>Version A-b1_1</td></tr>\n",
    "\n",
    "<tr ><td><span >{3}</span></td><td>Occurs exactly 3 times</td><td>\\D{3}</td><td>abc</td></tr>\n",
    "\n",
    "\n",
    "\n",
    "<tr ><td><span >{2,4}</span></td><td>Occurs 2 to 4 times</td><td>\\d{2,4}</td><td>123</td></tr>\n",
    "\n",
    "\n",
    "\n",
    "<tr ><td><span >{3,}</span></td><td>Occurs 3 or more</td><td>\\w{3,}</td><td>anycharacters</td></tr>\n",
    "\n",
    "<tr ><td><span >\\*</span></td><td>Occurs zero or more times</td><td>A\\*B\\*C*</td><td>AAACC</td></tr>\n",
    "\n",
    "<tr ><td><span >?</span></td><td>Once or none</td><td>plurals?</td><td>plural</td></tr></table>"
   ]
  },
  {
   "cell_type": "markdown",
   "metadata": {
    "id": "_3TTRmxMQeWT"
   },
   "source": [
    "Let's rewrite our pattern using these quantifiers:"
   ]
  },
  {
   "cell_type": "code",
   "execution_count": null,
   "metadata": {
    "colab": {
     "base_uri": "https://localhost:8080/"
    },
    "id": "V93ztSSgEN6G",
    "outputId": "13cd012d-3a51-40a7-b504-01648c5bb060"
   },
   "outputs": [
    {
     "data": {
      "text/plain": [
       "<re.Match object; span=(23, 35), match='408-555-1234'>"
      ]
     },
     "execution_count": 28,
     "metadata": {},
     "output_type": "execute_result"
    }
   ],
   "source": [
    "re.search(r'\\d{3}-\\d{3}-\\d{4}',text)"
   ]
  },
  {
   "cell_type": "markdown",
   "metadata": {
    "id": "JNW84DdHQeWT"
   },
   "source": [
    "## Groups\n",
    "\n",
    "What if we wanted to do two tasks, find phone numbers, but also be able to quickly extract their area code (the first three digits). We can use groups for any general task that involves grouping together regular expressions (so that we can later break them down). \n",
    "\n",
    "Using the phone number example, we can separate groups of regular expressions using parenthesis:"
   ]
  },
  {
   "cell_type": "code",
   "execution_count": null,
   "metadata": {
    "id": "Tpgep4PoE4s6"
   },
   "outputs": [],
   "source": [
    "phone_pattern = re.compile(r'(\\d{3})-(\\d{3})-(\\d{4})')"
   ]
  },
  {
   "cell_type": "code",
   "execution_count": null,
   "metadata": {
    "id": "XGflhfYBFCzE"
   },
   "outputs": [],
   "source": [
    "results = re.search(phone_pattern,text)"
   ]
  },
  {
   "cell_type": "code",
   "execution_count": null,
   "metadata": {
    "colab": {
     "base_uri": "https://localhost:8080/",
     "height": 35
    },
    "id": "LtbrXurWFLMk",
    "outputId": "e9055782-5b2c-4ef1-9df1-cf730090b725"
   },
   "outputs": [
    {
     "data": {
      "application/vnd.google.colaboratory.intrinsic+json": {
       "type": "string"
      },
      "text/plain": [
       "'408-555-1234'"
      ]
     },
     "execution_count": 48,
     "metadata": {},
     "output_type": "execute_result"
    }
   ],
   "source": [
    "results.group()"
   ]
  },
  {
   "cell_type": "code",
   "execution_count": null,
   "metadata": {
    "colab": {
     "base_uri": "https://localhost:8080/",
     "height": 35
    },
    "id": "x1EtM8GDFP4h",
    "outputId": "34cf44dc-9cce-4eba-df73-a1e99795211f"
   },
   "outputs": [
    {
     "data": {
      "application/vnd.google.colaboratory.intrinsic+json": {
       "type": "string"
      },
      "text/plain": [
       "'408'"
      ]
     },
     "execution_count": 49,
     "metadata": {},
     "output_type": "execute_result"
    }
   ],
   "source": [
    "results.group(1)"
   ]
  },
  {
   "cell_type": "code",
   "execution_count": null,
   "metadata": {
    "colab": {
     "base_uri": "https://localhost:8080/",
     "height": 35
    },
    "id": "qKgJ2aldFzcW",
    "outputId": "b932bce8-19b6-4db9-ae0f-92aaecabd75c"
   },
   "outputs": [
    {
     "data": {
      "application/vnd.google.colaboratory.intrinsic+json": {
       "type": "string"
      },
      "text/plain": [
       "'555'"
      ]
     },
     "execution_count": 50,
     "metadata": {},
     "output_type": "execute_result"
    }
   ],
   "source": [
    "results.group(2)"
   ]
  },
  {
   "cell_type": "markdown",
   "metadata": {
    "id": "BKLyzDr1QeWW"
   },
   "source": [
    "## Additional Regex Syntax\n",
    "\n",
    "### Or operator |\n",
    "\n",
    "Use the pipe operator to have an **or** statment. For example"
   ]
  },
  {
   "cell_type": "code",
   "execution_count": null,
   "metadata": {
    "colab": {
     "base_uri": "https://localhost:8080/"
    },
    "id": "H897pBQjFO9H",
    "outputId": "a48cdd6f-b187-4ad8-c898-16a661260d15"
   },
   "outputs": [
    {
     "data": {
      "text/plain": [
       "<re.Match object; span=(5, 8), match='man'>"
      ]
     },
     "execution_count": 54,
     "metadata": {},
     "output_type": "execute_result"
    }
   ],
   "source": [
    "re.search(r\"man|woman\",\"This man was here.\")"
   ]
  },
  {
   "cell_type": "code",
   "execution_count": null,
   "metadata": {
    "colab": {
     "base_uri": "https://localhost:8080/"
    },
    "id": "YSplhdRZGrfR",
    "outputId": "b64e5fb9-0379-49b0-9879-9646d47e4f6b"
   },
   "outputs": [
    {
     "data": {
      "text/plain": [
       "<re.Match object; span=(5, 10), match='woman'>"
      ]
     },
     "execution_count": 52,
     "metadata": {},
     "output_type": "execute_result"
    }
   ],
   "source": [
    "re.search(r\"man|woman\",\"This woman was here.\")"
   ]
  },
  {
   "cell_type": "markdown",
   "metadata": {
    "id": "jEZ7PHTrQeWW"
   },
   "source": [
    "### The Wildcard Character\n",
    "\n",
    "Use a \"wildcard\" as a placement that will match any character placed there. You can use a simple period **.** for this. For example:"
   ]
  },
  {
   "cell_type": "code",
   "execution_count": null,
   "metadata": {
    "colab": {
     "base_uri": "https://localhost:8080/"
    },
    "id": "8l_2REXqHFLQ",
    "outputId": "60cf5c3c-d55d-4c07-9f4f-ec8528809c71"
   },
   "outputs": [
    {
     "data": {
      "text/plain": [
       "['cat', 'hat', 'sat']"
      ]
     },
     "execution_count": 55,
     "metadata": {},
     "output_type": "execute_result"
    }
   ],
   "source": [
    "re.findall(r\".at\",\"The cat in the hat sat here.\")"
   ]
  },
  {
   "cell_type": "code",
   "execution_count": null,
   "metadata": {
    "colab": {
     "base_uri": "https://localhost:8080/"
    },
    "id": "rSE6l57KHYhr",
    "outputId": "f9d50ea2-dec0-40e1-ba77-313cf20905b1"
   },
   "outputs": [
    {
     "data": {
      "text/plain": [
       "['ate']"
      ]
     },
     "execution_count": 56,
     "metadata": {},
     "output_type": "execute_result"
    }
   ],
   "source": [
    "re.findall(r\"at.\",\"They ate the soemthing.\")"
   ]
  },
  {
   "cell_type": "markdown",
   "metadata": {
    "id": "TK2QWjaOQeWX"
   },
   "source": [
    "Notice how we only matched the first 3 letters, that is because we need a **.** for each wildcard letter. Or use the quantifiers described above to set its own rules."
   ]
  },
  {
   "cell_type": "code",
   "execution_count": null,
   "metadata": {
    "colab": {
     "base_uri": "https://localhost:8080/"
    },
    "id": "GazS_FGIHpbr",
    "outputId": "862cffca-edad-4a35-9ee8-f5f40520adff"
   },
   "outputs": [
    {
     "data": {
      "text/plain": [
       "['e bat', 'splat']"
      ]
     },
     "execution_count": 57,
     "metadata": {},
     "output_type": "execute_result"
    }
   ],
   "source": [
    "re.findall(r\"...at\",\"The bat went splat.\")"
   ]
  },
  {
   "cell_type": "markdown",
   "metadata": {
    "id": "TaTo3ZaNQeWX"
   },
   "source": [
    "However this still leads the problem to grabbing more beforehand. Really we only want words that end with \"at\"."
   ]
  },
  {
   "cell_type": "markdown",
   "metadata": {
    "id": "BvT2rO8BQeWY"
   },
   "source": [
    "### Starts with and Ends With\n",
    "\n",
    "We can use the **^** to signal starts with, and the **$** to signal ends with:"
   ]
  },
  {
   "cell_type": "code",
   "execution_count": null,
   "metadata": {
    "colab": {
     "base_uri": "https://localhost:8080/"
    },
    "id": "dUCnVNG6H-RV",
    "outputId": "03c90dbc-b100-477f-dfa3-4be7c017e4fd"
   },
   "outputs": [
    {
     "data": {
      "text/plain": [
       "['2']"
      ]
     },
     "execution_count": 58,
     "metadata": {},
     "output_type": "execute_result"
    }
   ],
   "source": [
    "re.findall(r'\\d$','This ends with a number 2' )"
   ]
  },
  {
   "cell_type": "code",
   "execution_count": null,
   "metadata": {
    "colab": {
     "base_uri": "https://localhost:8080/"
    },
    "id": "dGUnVyZBIVm1",
    "outputId": "b65f37cf-9ad7-445f-aa90-9c657e02a8db"
   },
   "outputs": [
    {
     "data": {
      "text/plain": [
       "['1']"
      ]
     },
     "execution_count": 59,
     "metadata": {},
     "output_type": "execute_result"
    }
   ],
   "source": [
    "re.findall(r'^\\d','1 This start with a number' )"
   ]
  },
  {
   "cell_type": "markdown",
   "metadata": {
    "id": "VV9PN1_iQeWY"
   },
   "source": [
    "Note that this is for the entire string, not individual words!"
   ]
  },
  {
   "cell_type": "markdown",
   "metadata": {
    "id": "IE1zWMQJQeWZ"
   },
   "source": [
    "### Exclusion\n",
    "\n",
    "To exclude characters, we can use the **^** symbol in conjunction with a set of brackets **[]**. Anything inside the brackets is excluded. For example:"
   ]
  },
  {
   "cell_type": "code",
   "execution_count": 1,
   "metadata": {
    "executionInfo": {
     "elapsed": 396,
     "status": "ok",
     "timestamp": 1648957488619,
     "user": {
      "displayName": "Pratul Goyal",
      "userId": "00135603053735469607"
     },
     "user_tz": -330
    },
    "id": "XM5rRsqmheCJ"
   },
   "outputs": [],
   "source": [
    "phrase = \"there are 3 numbers 34 inside 5 this sentences\""
   ]
  },
  {
   "cell_type": "markdown",
   "metadata": {
    "id": "wzSvPjjcQeWZ"
   },
   "source": [
    "To get the words back together, use a + sign "
   ]
  },
  {
   "cell_type": "code",
   "execution_count": 4,
   "metadata": {
    "colab": {
     "base_uri": "https://localhost:8080/"
    },
    "executionInfo": {
     "elapsed": 385,
     "status": "ok",
     "timestamp": 1648957552716,
     "user": {
      "displayName": "Pratul Goyal",
      "userId": "00135603053735469607"
     },
     "user_tz": -330
    },
    "id": "dBfHI5UkhoNb",
    "outputId": "15fb433e-a0b9-4b86-cbab-e1a2f43de746"
   },
   "outputs": [
    {
     "data": {
      "text/plain": [
       "['t',\n",
       " 'h',\n",
       " 'e',\n",
       " 'r',\n",
       " 'e',\n",
       " ' ',\n",
       " 'a',\n",
       " 'r',\n",
       " 'e',\n",
       " ' ',\n",
       " ' ',\n",
       " 'n',\n",
       " 'u',\n",
       " 'm',\n",
       " 'b',\n",
       " 'e',\n",
       " 'r',\n",
       " 's',\n",
       " ' ',\n",
       " ' ',\n",
       " 'i',\n",
       " 'n',\n",
       " 's',\n",
       " 'i',\n",
       " 'd',\n",
       " 'e',\n",
       " ' ',\n",
       " ' ',\n",
       " 't',\n",
       " 'h',\n",
       " 'i',\n",
       " 's',\n",
       " ' ',\n",
       " 's',\n",
       " 'e',\n",
       " 'n',\n",
       " 't',\n",
       " 'e',\n",
       " 'n',\n",
       " 'c',\n",
       " 'e',\n",
       " 's']"
      ]
     },
     "execution_count": 4,
     "metadata": {},
     "output_type": "execute_result"
    }
   ],
   "source": [
    "re.findall(r'[^\\d]',phrase)"
   ]
  },
  {
   "cell_type": "code",
   "execution_count": 5,
   "metadata": {
    "colab": {
     "base_uri": "https://localhost:8080/"
    },
    "executionInfo": {
     "elapsed": 6,
     "status": "ok",
     "timestamp": 1648957586518,
     "user": {
      "displayName": "Pratul Goyal",
      "userId": "00135603053735469607"
     },
     "user_tz": -330
    },
    "id": "QMPuL4ydh93A",
    "outputId": "952a50e1-0180-40e3-d90c-970598dc6e9b"
   },
   "outputs": [
    {
     "data": {
      "text/plain": [
       "['there are ', ' numbers ', ' inside ', ' this sentences']"
      ]
     },
     "execution_count": 5,
     "metadata": {},
     "output_type": "execute_result"
    }
   ],
   "source": [
    "re.findall(r'[^\\d]+',phrase)"
   ]
  },
  {
   "cell_type": "markdown",
   "metadata": {
    "id": "8Z36tumlQeWa"
   },
   "source": [
    "We can use this to remove punctuation from a sentence."
   ]
  },
  {
   "cell_type": "code",
   "execution_count": 20,
   "metadata": {
    "executionInfo": {
     "elapsed": 3,
     "status": "ok",
     "timestamp": 1648958198621,
     "user": {
      "displayName": "Pratul Goyal",
      "userId": "00135603053735469607"
     },
     "user_tz": -330
    },
    "id": "qhzxXTtJirwp"
   },
   "outputs": [],
   "source": [
    "test_phrase = 'This is a string! But it has punctuation. How, can we remove it?'"
   ]
  },
  {
   "cell_type": "code",
   "execution_count": 21,
   "metadata": {
    "colab": {
     "base_uri": "https://localhost:8080/"
    },
    "executionInfo": {
     "elapsed": 4,
     "status": "ok",
     "timestamp": 1648958199175,
     "user": {
      "displayName": "Pratul Goyal",
      "userId": "00135603053735469607"
     },
     "user_tz": -330
    },
    "id": "2kInIE-IjGtj",
    "outputId": "261b20b3-bc40-4dbd-b927-bec0ec2db7a0"
   },
   "outputs": [
    {
     "data": {
      "text/plain": [
       "['This is a string', ' But it has punctuation', ' How', ' can we remove it']"
      ]
     },
     "execution_count": 21,
     "metadata": {},
     "output_type": "execute_result"
    }
   ],
   "source": [
    "re.findall(r'[^!,.?]+',test_phrase)"
   ]
  },
  {
   "cell_type": "code",
   "execution_count": 22,
   "metadata": {
    "executionInfo": {
     "elapsed": 3,
     "status": "ok",
     "timestamp": 1648958229695,
     "user": {
      "displayName": "Pratul Goyal",
      "userId": "00135603053735469607"
     },
     "user_tz": -330
    },
    "id": "_9fPx6sjkXk6"
   },
   "outputs": [],
   "source": [
    "clean = ' '.join(re.findall(r'[^!,.?]+',test_phrase))"
   ]
  },
  {
   "cell_type": "code",
   "execution_count": 23,
   "metadata": {
    "colab": {
     "base_uri": "https://localhost:8080/",
     "height": 35
    },
    "executionInfo": {
     "elapsed": 9,
     "status": "ok",
     "timestamp": 1648958244059,
     "user": {
      "displayName": "Pratul Goyal",
      "userId": "00135603053735469607"
     },
     "user_tz": -330
    },
    "id": "BXDxm3HqkdJE",
    "outputId": "513fb2f2-06c7-45b8-9523-d22e839fe6cd"
   },
   "outputs": [
    {
     "data": {
      "application/vnd.google.colaboratory.intrinsic+json": {
       "type": "string"
      },
      "text/plain": [
       "'This is a string  But it has punctuation  How  can we remove it'"
      ]
     },
     "execution_count": 23,
     "metadata": {},
     "output_type": "execute_result"
    }
   ],
   "source": [
    "clean"
   ]
  },
  {
   "cell_type": "markdown",
   "metadata": {
    "id": "jxHZCh1pQeWb"
   },
   "source": [
    "## Brackets for Grouping\n",
    "\n",
    "As we showed above we can use brackets to group together options, for example if we wanted to find hyphenated words:"
   ]
  },
  {
   "cell_type": "code",
   "execution_count": 24,
   "metadata": {
    "executionInfo": {
     "elapsed": 393,
     "status": "ok",
     "timestamp": 1648958400333,
     "user": {
      "displayName": "Pratul Goyal",
      "userId": "00135603053735469607"
     },
     "user_tz": -330
    },
    "id": "ASipKtNWk0RQ"
   },
   "outputs": [],
   "source": [
    "text = 'Only find the hypen-words in this sentence. But you do not know how long-ish they are'"
   ]
  },
  {
   "cell_type": "code",
   "execution_count": 25,
   "metadata": {
    "colab": {
     "base_uri": "https://localhost:8080/"
    },
    "executionInfo": {
     "elapsed": 399,
     "status": "ok",
     "timestamp": 1648958439940,
     "user": {
      "displayName": "Pratul Goyal",
      "userId": "00135603053735469607"
     },
     "user_tz": -330
    },
    "id": "QxTRfSDulG8j",
    "outputId": "15f77104-b182-4e88-978d-64ac14a3ce08"
   },
   "outputs": [
    {
     "data": {
      "text/plain": [
       "['hypen-words', 'long-ish']"
      ]
     },
     "execution_count": 25,
     "metadata": {},
     "output_type": "execute_result"
    }
   ],
   "source": [
    "re.findall(r'[\\w]+-[\\w]+',text)"
   ]
  },
  {
   "cell_type": "markdown",
   "metadata": {
    "id": "2Shw8rMmQeWb"
   },
   "source": [
    "## Parenthesis for Multiple Options\n",
    "\n",
    "If we have multiple options for matching, we can use parenthesis to list out these options. For Example:"
   ]
  },
  {
   "cell_type": "code",
   "execution_count": 26,
   "metadata": {
    "executionInfo": {
     "elapsed": 391,
     "status": "ok",
     "timestamp": 1648958738596,
     "user": {
      "displayName": "Pratul Goyal",
      "userId": "00135603053735469607"
     },
     "user_tz": -330
    },
    "id": "8Cyu2XBelvTX"
   },
   "outputs": [],
   "source": [
    "# Find words that start with cat and end with one of these options: 'fish','nap',or 'claw'\n",
    "text = 'Hello would you like some catfish?'\n",
    "texttwo = 'Hello, would you like to take a catnap?'\n",
    "textthree = \"Hello, have you seen this caterpillar?\""
   ]
  },
  {
   "cell_type": "code",
   "execution_count": 27,
   "metadata": {
    "colab": {
     "base_uri": "https://localhost:8080/"
    },
    "executionInfo": {
     "elapsed": 6,
     "status": "ok",
     "timestamp": 1648958824238,
     "user": {
      "displayName": "Pratul Goyal",
      "userId": "00135603053735469607"
     },
     "user_tz": -330
    },
    "id": "0LFkSMsvmZnU",
    "outputId": "f7461ea1-2543-4431-c2fb-7d9c94b094d9"
   },
   "outputs": [
    {
     "data": {
      "text/plain": [
       "<re.Match object; span=(26, 33), match='catfish'>"
      ]
     },
     "execution_count": 27,
     "metadata": {},
     "output_type": "execute_result"
    }
   ],
   "source": [
    "re.search(r'cat(fish|nap|claw)',text)"
   ]
  },
  {
   "cell_type": "code",
   "execution_count": 29,
   "metadata": {
    "colab": {
     "base_uri": "https://localhost:8080/"
    },
    "executionInfo": {
     "elapsed": 5,
     "status": "ok",
     "timestamp": 1648958909791,
     "user": {
      "displayName": "Pratul Goyal",
      "userId": "00135603053735469607"
     },
     "user_tz": -330
    },
    "id": "-n9lF8EZm_ma",
    "outputId": "4ce06ab9-27e7-43ec-a8a1-fe34346a0503"
   },
   "outputs": [
    {
     "data": {
      "text/plain": [
       "<re.Match object; span=(32, 38), match='catnap'>"
      ]
     },
     "execution_count": 29,
     "metadata": {},
     "output_type": "execute_result"
    }
   ],
   "source": [
    "re.search(r'cat(fish|nap|claw)',texttwo)"
   ]
  },
  {
   "cell_type": "code",
   "execution_count": 30,
   "metadata": {
    "executionInfo": {
     "elapsed": 412,
     "status": "ok",
     "timestamp": 1648958932936,
     "user": {
      "displayName": "Pratul Goyal",
      "userId": "00135603053735469607"
     },
     "user_tz": -330
    },
    "id": "FGeUG5fFnGE-"
   },
   "outputs": [],
   "source": [
    "re.search(r'cat(fish|nap|claw)',textthree)"
   ]
  },
  {
   "cell_type": "markdown",
   "metadata": {
    "id": "XqEForqwQeWc"
   },
   "source": [
    "### Conclusion\n",
    "\n",
    "Excellent work! For full information on all possible patterns, check out: https://docs.python.org/3/howto/regex.html"
   ]
  },
  {
   "cell_type": "markdown",
   "metadata": {
    "id": "hi8DGq5SQeWc"
   },
   "source": [
    "____"
   ]
  }
 ],
 "metadata": {
  "colab": {
   "collapsed_sections": [
    "JNW84DdHQeWT"
   ],
   "name": "Overview_of_Regular_Expressions.ipynb",
   "provenance": []
  },
  "kernelspec": {
   "display_name": "Python 3",
   "language": "python",
   "name": "python3"
  },
  "language_info": {
   "codemirror_mode": {
    "name": "ipython",
    "version": 3
   },
   "file_extension": ".py",
   "mimetype": "text/x-python",
   "name": "python",
   "nbconvert_exporter": "python",
   "pygments_lexer": "ipython3",
   "version": "3.7.5"
  }
 },
 "nbformat": 4,
 "nbformat_minor": 4
}
